{
 "cells": [
  {
   "cell_type": "markdown",
   "metadata": {},
   "source": [
    "# Spatial Autocorrelation in Python"
   ]
  },
  {
   "cell_type": "code",
   "execution_count": 93,
   "metadata": {
    "collapsed": true,
    "deletable": true,
    "editable": true
   },
   "outputs": [],
   "source": [
    "import pysal\n",
    "import numpy as np\n",
    "\n",
    "import matplotlib\n",
    "#matplotlib.use(\"nbagg\") #this allows for plotting to happen inside the notebook\n",
    "import matplotlib.pyplot as plt\n",
    "%matplotlib inline"
   ]
  },
  {
   "cell_type": "markdown",
   "metadata": {},
   "source": [
    "In this note, we demonstrate how to evaluate spatial autocorrelation in Python using pysal module. We assume we have a geometry like\n",
    "![](fig1.png)"
   ]
  },
  {
   "cell_type": "markdown",
   "metadata": {
    "deletable": true,
    "editable": true
   },
   "source": [
    "# 0. Define Proximity - Spatial Weight\n",
    "\n",
    "### 0.0 Generating [spatial weight matrix](http://pysal.readthedocs.io/en/latest/library/weights/weights.html#pysal.weights.weights.W)\n",
    "\n",
    "There are many ways to define spatial weight, like inverse of distance or exponential decay over distance etc. Here we simply consider only nonzero weight for adjacent locations "
   ]
  },
  {
   "cell_type": "code",
   "execution_count": 76,
   "metadata": {
    "collapsed": false,
    "deletable": true,
    "editable": true
   },
   "outputs": [
    {
     "name": "stdout",
     "output_type": "stream",
     "text": [
      "<class 'pysal.weights.weights.W'>\n"
     ]
    }
   ],
   "source": [
    "neighbors = {'A': ['B', 'D'], 'B': ['A', 'C', 'E'], 'C': ['B', 'F'], 'D': ['A', 'E', 'G'], \n",
    "             'E': ['B', 'D', 'E', 'F'], 'F': ['C', 'E', 'I'], 'G': ['D', 'H'], 'H': ['E', 'G', 'I'], 'I': ['F', 'H']}\n",
    "weights = {'A': [1, 1], 'B': [1, 1, 1], 'C': [1, 1], 'D': [1, 1, 1], 'E': [1, 1, 1, 1], \n",
    "           'F': [1, 1, 1], 'G': [1, 1], 'H': [1, 1, 1], 'I': [1, 1]}\n",
    "\n",
    "w = pysal.W(neighbors, weights)\n",
    "print type(w)"
   ]
  },
  {
   "cell_type": "code",
   "execution_count": 65,
   "metadata": {
    "collapsed": false,
    "deletable": true,
    "editable": true
   },
   "outputs": [
    {
     "data": {
      "text/plain": [
       "9"
      ]
     },
     "execution_count": 65,
     "metadata": {},
     "output_type": "execute_result"
    }
   ],
   "source": [
    "w.n"
   ]
  },
  {
   "cell_type": "code",
   "execution_count": 66,
   "metadata": {
    "collapsed": false,
    "deletable": true,
    "editable": true
   },
   "outputs": [
    {
     "data": {
      "text/plain": [
       "29.62962962962963"
      ]
     },
     "execution_count": 66,
     "metadata": {},
     "output_type": "execute_result"
    }
   ],
   "source": [
    "w.pct_nonzero"
   ]
  },
  {
   "cell_type": "code",
   "execution_count": 67,
   "metadata": {
    "collapsed": false,
    "deletable": true,
    "editable": true
   },
   "outputs": [
    {
     "name": "stdout",
     "output_type": "stream",
     "text": [
      "<type 'numpy.ndarray'> (9, 9)\n",
      "['A', 'B', 'C', 'D', 'E', 'F', 'G', 'H', 'I']\n",
      "[[ 0.  1.  0.  1.  0.  0.  0.  0.  0.]\n",
      " [ 1.  0.  1.  0.  1.  0.  0.  0.  0.]\n",
      " [ 0.  1.  0.  0.  0.  1.  0.  0.  0.]\n",
      " [ 1.  0.  0.  0.  1.  0.  1.  0.  0.]\n",
      " [ 0.  1.  0.  1.  1.  1.  0.  0.  0.]\n",
      " [ 0.  0.  1.  0.  1.  0.  0.  0.  1.]\n",
      " [ 0.  0.  0.  1.  0.  0.  0.  1.  0.]\n",
      " [ 0.  0.  0.  0.  1.  0.  1.  0.  1.]\n",
      " [ 0.  0.  0.  0.  0.  1.  0.  1.  0.]]\n"
     ]
    }
   ],
   "source": [
    "weight, ids = w.full()\n",
    "print type(weight), weight.shape\n",
    "print ids\n",
    "print weight"
   ]
  },
  {
   "cell_type": "markdown",
   "metadata": {
    "deletable": true,
    "editable": true
   },
   "source": [
    "### 0.1 row-standardized"
   ]
  },
  {
   "cell_type": "code",
   "execution_count": 78,
   "metadata": {
    "collapsed": false,
    "deletable": true,
    "editable": true
   },
   "outputs": [
    {
     "name": "stdout",
     "output_type": "stream",
     "text": [
      "[[ 0.          0.5         0.          0.5         0.          0.          0.\n",
      "   0.          0.        ]\n",
      " [ 0.33333333  0.          0.33333333  0.          0.33333333  0.          0.\n",
      "   0.          0.        ]\n",
      " [ 0.          0.5         0.          0.          0.          0.5         0.\n",
      "   0.          0.        ]\n",
      " [ 0.33333333  0.          0.          0.          0.33333333  0.\n",
      "   0.33333333  0.          0.        ]\n",
      " [ 0.          0.25        0.          0.25        0.25        0.25        0.\n",
      "   0.          0.        ]\n",
      " [ 0.          0.          0.33333333  0.          0.33333333  0.          0.\n",
      "   0.          0.33333333]\n",
      " [ 0.          0.          0.          0.5         0.          0.          0.\n",
      "   0.5         0.        ]\n",
      " [ 0.          0.          0.          0.          0.33333333  0.\n",
      "   0.33333333  0.          0.33333333]\n",
      " [ 0.          0.          0.          0.          0.          0.5         0.\n",
      "   0.5         0.        ]]\n"
     ]
    }
   ],
   "source": [
    "w.transform='r'\n",
    "weight, ids = w.full()\n",
    "print weight"
   ]
  },
  {
   "cell_type": "code",
   "execution_count": 41,
   "metadata": {
    "collapsed": false,
    "deletable": true,
    "editable": true
   },
   "outputs": [
    {
     "data": {
      "text/plain": [
       "(['B', 'D', 'E', 'F'], [1, 1, 1, 1])"
      ]
     },
     "execution_count": 41,
     "metadata": {},
     "output_type": "execute_result"
    }
   ],
   "source": [
    "w.neighbors['E'], w.weights['E']"
   ]
  },
  {
   "cell_type": "markdown",
   "metadata": {
    "deletable": true,
    "editable": true
   },
   "source": [
    "### 0.2 Spatial lag (finding neighboring Avg)\n",
    "\n",
    "http://pysal.readthedocs.io/en/latest/library/weights/spatial_lag.html\n",
    "\n",
    "Implement `pysal.lag_spatial(w, x)`. `w` is a $n \\times n$ numpy matrix and `x` is a $n$-dimensional numpy array, where $n$ is number of observations."
   ]
  },
  {
   "cell_type": "markdown",
   "metadata": {
    "deletable": true,
    "editable": true
   },
   "source": [
    "# 1. Global Spatial Autocorrelation\n",
    "\n",
    "## 1.1 [Moran's I](http://pysal.readthedocs.io/en/latest/users/tutorials/autocorrelation.html#moran-s-i)\n",
    "\n",
    "$$\\textrm{I} = \\frac{N}{S_0}\\frac{\\sum_{ij} W_{ij}(X_i-\\bar{X})(X_j-\\bar{X})}{\\sum_i (X_i-\\bar{X})^2}$$\n",
    "\n",
    "where $S_0 =\\sum_{ij}W_{ij}$. $I=1$ denotes a perfect clustering pattern, where $I=-1$ denotes a perfect alternative pattern. $I=0$ means no spatial correlation. Global Moran's I is a single number.\n",
    "\n",
    "### (a) Clustering pattern (high/low surrounded by high/low) "
   ]
  },
  {
   "cell_type": "code",
   "execution_count": 211,
   "metadata": {
    "collapsed": false,
    "deletable": true,
    "editable": true
   },
   "outputs": [],
   "source": [
    "x = np.array([1,1,1,1,1,1,0,0,0])"
   ]
  },
  {
   "cell_type": "code",
   "execution_count": 212,
   "metadata": {
    "collapsed": true,
    "deletable": true,
    "editable": true
   },
   "outputs": [],
   "source": [
    "morans_I = pysal.Moran(x, w, two_tailed=True)"
   ]
  },
  {
   "cell_type": "code",
   "execution_count": 86,
   "metadata": {
    "collapsed": false,
    "deletable": true,
    "editable": true
   },
   "outputs": [
    {
     "name": "stdout",
     "output_type": "stream",
     "text": [
      "Help on Moran in module pysal.esda.moran object:\n",
      "\n",
      "class Moran(__builtin__.object)\n",
      " |  Moran's I Global Autocorrelation Statistic\n",
      " |  \n",
      " |  Parameters\n",
      " |  ----------\n",
      " |  \n",
      " |  y               : array\n",
      " |                    variable measured across n spatial units\n",
      " |  w               : W\n",
      " |                    spatial weights instance\n",
      " |  transformation  : string\n",
      " |                    weights transformation,  default is row-standardized \"r\".\n",
      " |                    Other options include \"B\": binary,  \"D\":\n",
      " |                    doubly-standardized,  \"U\": untransformed\n",
      " |                    (general weights), \"V\": variance-stabilizing.\n",
      " |  permutations    : int\n",
      " |                    number of random permutations for calculation of\n",
      " |                    pseudo-p_values\n",
      " |  two_tailed      : boolean\n",
      " |                    If True (default) analytical p-values for Moran are two\n",
      " |                    tailed, otherwise if False, they are one-tailed.\n",
      " |  \n",
      " |  Attributes\n",
      " |  ----------\n",
      " |  y            : array\n",
      " |                 original variable\n",
      " |  w            : W\n",
      " |                 original w object\n",
      " |  permutations : int\n",
      " |                 number of permutations\n",
      " |  I            : float\n",
      " |                 value of Moran's I\n",
      " |  EI           : float\n",
      " |                 expected value under normality assumption\n",
      " |  VI_norm      : float\n",
      " |                 variance of I under normality assumption\n",
      " |  seI_norm     : float\n",
      " |                 standard deviation of I under normality assumption\n",
      " |  z_norm       : float\n",
      " |                 z-value of I under normality assumption\n",
      " |  p_norm       : float\n",
      " |                 p-value of I under normality assumption\n",
      " |  VI_rand      : float\n",
      " |                 variance of I under randomization assumption\n",
      " |  seI_rand     : float\n",
      " |                 standard deviation of I under randomization assumption\n",
      " |  z_rand       : float\n",
      " |                 z-value of I under randomization assumption\n",
      " |  p_rand       : float\n",
      " |                 p-value of I under randomization assumption\n",
      " |  two_tailed   : boolean\n",
      " |                 If True p_norm and p_rand are two-tailed, otherwise they\n",
      " |                 are one-tailed.\n",
      " |  sim          : array\n",
      " |                 (if permutations>0)\n",
      " |                 vector of I values for permuted samples\n",
      " |  p_sim        : array\n",
      " |                 (if permutations>0)\n",
      " |                 p-value based on permutations (one-tailed)\n",
      " |                 null: spatial randomness\n",
      " |                 alternative: the observed I is extreme if\n",
      " |                 it is either extremely greater or extremely lower\n",
      " |                 than the values obtained based on permutations\n",
      " |  EI_sim       : float\n",
      " |                 (if permutations>0)\n",
      " |                 average value of I from permutations\n",
      " |  VI_sim       : float\n",
      " |                 (if permutations>0)\n",
      " |                 variance of I from permutations\n",
      " |  seI_sim      : float\n",
      " |                 (if permutations>0)\n",
      " |                 standard deviation of I under permutations.\n",
      " |  z_sim        : float\n",
      " |                 (if permutations>0)\n",
      " |                 standardized I based on permutations\n",
      " |  p_z_sim      : float\n",
      " |                 (if permutations>0)\n",
      " |                 p-value based on standard normal approximation from\n",
      " |                 permutations\n",
      " |  \n",
      " |  Examples\n",
      " |  --------\n",
      " |  >>> import pysal\n",
      " |  >>> w = pysal.open(pysal.examples.get_path(\"stl.gal\")).read()\n",
      " |  >>> f = pysal.open(pysal.examples.get_path(\"stl_hom.txt\"))\n",
      " |  >>> y = np.array(f.by_col['HR8893'])\n",
      " |  >>> mi = pysal.Moran(y,  w)\n",
      " |  >>> \"%7.5f\" % mi.I\n",
      " |  '0.24366'\n",
      " |  >>> mi.EI\n",
      " |  -0.012987012987012988\n",
      " |  >>> mi.p_norm\n",
      " |  0.00027147862770937614\n",
      " |  \n",
      " |  SIDS example replicating OpenGeoda\n",
      " |  \n",
      " |  >>> w = pysal.open(pysal.examples.get_path(\"sids2.gal\")).read()\n",
      " |  >>> f = pysal.open(pysal.examples.get_path(\"sids2.dbf\"))\n",
      " |  >>> import numpy as np\n",
      " |  >>> SIDR = np.array(f.by_col(\"SIDR74\"))\n",
      " |  >>> mi = pysal.Moran(SIDR,  w)\n",
      " |  >>> \"%6.4f\" % mi.I\n",
      " |  '0.2477'\n",
      " |  >>> mi.p_norm\n",
      " |  0.0001158330781489969\n",
      " |  \n",
      " |  One-tailed\n",
      " |  \n",
      " |  >>> mi_1 = pysal.Moran(SIDR,  w, two_tailed=False)\n",
      " |  >>> \"%6.4f\" % mi_1.I\n",
      " |  '0.2477'\n",
      " |  >>> mi_1.p_norm\n",
      " |  5.7916539074498452e-05\n",
      " |  \n",
      " |  Example from http://www.lpc.uottawa.ca/publications/moransi/moran.htm\n",
      " |  \n",
      " |  >>> w = pysal.lat2W(3, 3)\n",
      " |  >>> y = np.arange(1, 10)\n",
      " |  >>> mi = pysal.Moran(y, w, transformation='B')\n",
      " |  >>> mi.VI_rand\n",
      " |  0.059687500000000004\n",
      " |  >>> mi.VI_norm\n",
      " |  0.053125000000000006\n",
      " |  \n",
      " |  Methods defined here:\n",
      " |  \n",
      " |  __init__(self, y, w, transformation='r', permutations=999, two_tailed=True)\n",
      " |  \n",
      " |  ----------------------------------------------------------------------\n",
      " |  Class methods defined here:\n",
      " |  \n",
      " |  by_col(cls, df, cols, w=None, inplace=False, pvalue='sim', outvals=None, **stat_kws) from __builtin__.type\n",
      " |      Function to compute a Moran statistic on a dataframe\n",
      " |      \n",
      " |      Arguments\n",
      " |      ---------\n",
      " |      df          :   pandas.DataFrame\n",
      " |                      a pandas dataframe with a geometry column\n",
      " |      cols        :   string or list of string\n",
      " |                      name or list of names of columns to use to compute the statistic\n",
      " |      w           :   pysal weights object\n",
      " |                      a weights object aligned with the dataframe. If not provided, this\n",
      " |                      is searched for in the dataframe's metadata\n",
      " |      inplace     :   bool\n",
      " |                      a boolean denoting whether to operate on the dataframe inplace or to\n",
      " |                      return a series contaning the results of the computation. If\n",
      " |                      operating inplace, the derived columns will be named\n",
      " |                      'column_moran'\n",
      " |      pvalue      :   string\n",
      " |                      a string denoting which pvalue should be returned. Refer to the\n",
      " |                      the Moran statistic's documentation for available p-values\n",
      " |      outvals     :   list of strings\n",
      " |                      list of arbitrary attributes to return as columns from the \n",
      " |                      Moran statistic\n",
      " |      **stat_kws  :   keyword arguments\n",
      " |                      options to pass to the underlying statistic. For this, see the\n",
      " |                      documentation for the Moran statistic.\n",
      " |      \n",
      " |      Returns\n",
      " |      --------\n",
      " |      If inplace, None, and operation is conducted on dataframe in memory. Otherwise,\n",
      " |      returns a copy of the dataframe with the relevant columns attached.\n",
      " |      \n",
      " |      See Also\n",
      " |      ---------\n",
      " |      For further documentation, refer to the Moran class in pysal.esda\n",
      " |  \n",
      " |  ----------------------------------------------------------------------\n",
      " |  Data descriptors defined here:\n",
      " |  \n",
      " |  __dict__\n",
      " |      dictionary for instance variables (if defined)\n",
      " |  \n",
      " |  __weakref__\n",
      " |      list of weak references to the object (if defined)\n",
      "\n",
      "\n"
     ]
    }
   ],
   "source": [
    "help(morans_I)"
   ]
  },
  {
   "cell_type": "code",
   "execution_count": 132,
   "metadata": {
    "collapsed": false,
    "deletable": true,
    "editable": true
   },
   "outputs": [
    {
     "name": "stdout",
     "output_type": "stream",
     "text": [
      "Moran's I: 0.444444444444 , E[I]: -0.125 , Z-score: 2.41322644487 , p-value: 0.015811992386\n"
     ]
    }
   ],
   "source": [
    "print \"Moran's I:\", morans_I.I, ', E[I]:', morans_I.EI, ', Z-score:', morans_I.z_norm, ', p-value:',morans_I.p_norm"
   ]
  },
  {
   "cell_type": "code",
   "execution_count": 121,
   "metadata": {
    "collapsed": false,
    "deletable": true,
    "editable": true
   },
   "outputs": [
    {
     "name": "stdout",
     "output_type": "stream",
     "text": [
      "[ 1.          1.          1.          0.66666667  1.          0.66666667\n",
      "  0.5         0.33333333  0.5       ]\n"
     ]
    }
   ],
   "source": [
    "print pysal.lag_spatial(w, x)"
   ]
  },
  {
   "cell_type": "code",
   "execution_count": 215,
   "metadata": {
    "collapsed": false,
    "deletable": true,
    "editable": true
   },
   "outputs": [
    {
     "data": {
      "image/png": "[encoded data removed]",
      "text/plain": [
       "<matplotlib.figure.Figure at 0x11b1a58d0>"
      ]
     },
     "metadata": {},
     "output_type": "display_data"
    }
   ],
   "source": [
    "plt.subplots(figsize = (3,3))\n",
    "\n",
    "x_stand = [(i-np.mean(x))/np.std(x) for i in x]\n",
    "w_x = pysal.lag_spatial(w, x)\n",
    "wx_stand = [(i-np.mean(w_x))/np.std(w_x) for i in w_x]\n",
    "\n",
    "max_num = max(abs(np.array(x_stand+wx_stand)))+0.1\n",
    "\n",
    "plt.scatter(x_stand, wx_stand)\n",
    "plt.plot([-max_num, max_num], [-max_num*morans_I.I, max_num*morans_I.I], color='red', linestyle='-', linewidth=1)\n",
    "plt.ylabel('W_x', fontsize=12)\n",
    "plt.xlabel('X', fontsize=12)\n",
    "plt.plot([0, 0], [-max_num, max_num], 'k--')\n",
    "plt.plot([-max_num, max_num], [0, 0], 'k--')\n",
    "plt.xlim(-max_num, max_num)\n",
    "plt.ylim(-max_num, max_num)\n",
    "plt.title(\"Moran's I = %0.2f\" % morans_I.I)\n",
    "plt.show()"
   ]
  },
  {
   "cell_type": "markdown",
   "metadata": {
    "deletable": true,
    "editable": true
   },
   "source": [
    "### (b) Outlier pattern (high/low surrounded by low/high)"
   ]
  },
  {
   "cell_type": "code",
   "execution_count": 216,
   "metadata": {
    "collapsed": false,
    "deletable": true,
    "editable": true
   },
   "outputs": [
    {
     "name": "stdout",
     "output_type": "stream",
     "text": [
      "Moran's I: -0.95 , E[I]: -0.125 , Z-score: -3.49623538599 , p-value: 0.000471872247929\n"
     ]
    }
   ],
   "source": [
    "x = np.array([1,0,1,0,1,0,1,0,1])\n",
    "morans_I = pysal.Moran(x, w, two_tailed=True)\n",
    "print \"Moran's I:\", morans_I.I, ', E[I]:', morans_I.EI, ', Z-score:', morans_I.z_norm, ', p-value:',morans_I.p_norm "
   ]
  },
  {
   "cell_type": "code",
   "execution_count": 207,
   "metadata": {
    "collapsed": false,
    "deletable": true,
    "editable": true
   },
   "outputs": [
    {
     "name": "stdout",
     "output_type": "stream",
     "text": [
      "[ 0.    1.    0.    1.    0.25  1.    0.    1.    0.  ]\n"
     ]
    }
   ],
   "source": [
    "print pysal.lag_spatial(w, x)"
   ]
  },
  {
   "cell_type": "code",
   "execution_count": 217,
   "metadata": {
    "collapsed": false,
    "deletable": true,
    "editable": true
   },
   "outputs": [
    {
     "data": {
      "image/png": "[encoded data removed]",
      "text/plain": [
       "<matplotlib.figure.Figure at 0x11b2ed310>"
      ]
     },
     "metadata": {},
     "output_type": "display_data"
    }
   ],
   "source": [
    "plt.subplots(figsize = (3,3))\n",
    "\n",
    "x_stand = [(i-np.mean(x))/np.std(x) for i in x]\n",
    "w_x = pysal.lag_spatial(w, x)\n",
    "wx_stand = [(i-np.mean(w_x))/np.std(w_x) for i in w_x]\n",
    "\n",
    "max_num = max(abs(np.array(x_stand+wx_stand)))+0.1\n",
    "\n",
    "plt.scatter(x_stand, wx_stand)\n",
    "plt.plot([-max_num, max_num], [-max_num*morans_I.I, max_num*morans_I.I], color='red', linestyle='-', linewidth=1)\n",
    "plt.ylabel('W_x', fontsize=12)\n",
    "plt.xlabel('X', fontsize=12)\n",
    "plt.plot([0, 0], [-max_num, max_num], 'k--')\n",
    "plt.plot([-max_num, max_num], [0, 0], 'k--')\n",
    "plt.xlim(-max_num, max_num)\n",
    "plt.ylim(-max_num, max_num)\n",
    "plt.title(\"Moran's I = %0.2f\" % morans_I.I)\n",
    "plt.show()"
   ]
  },
  {
   "cell_type": "markdown",
   "metadata": {
    "deletable": true,
    "editable": true
   },
   "source": [
    "### (c) Random pattern"
   ]
  },
  {
   "cell_type": "code",
   "execution_count": 220,
   "metadata": {
    "collapsed": false,
    "deletable": true,
    "editable": true
   },
   "outputs": [
    {
     "name": "stdout",
     "output_type": "stream",
     "text": [
      "[1 6 6 8 6 2 3 1 2]\n",
      "Moran's I: -0.0647773279352 , E[I]: -0.125 , Z-score: 0.255215317711 , p-value: 0.7985568009\n"
     ]
    }
   ],
   "source": [
    "x = np.random.randint(10, size=9)\n",
    "print x\n",
    "morans_I = pysal.Moran(x, w, two_tailed=True)\n",
    "print \"Moran's I:\", morans_I.I, ', E[I]:', morans_I.EI, ', Z-score:', morans_I.z_norm, ', p-value:',morans_I.p_norm"
   ]
  },
  {
   "cell_type": "code",
   "execution_count": 221,
   "metadata": {
    "collapsed": false,
    "deletable": true,
    "editable": true
   },
   "outputs": [
    {
     "data": {
      "image/png": "[encoded data removed]",
      "text/plain": [
       "<matplotlib.figure.Figure at 0x11b5ccc10>"
      ]
     },
     "metadata": {},
     "output_type": "display_data"
    }
   ],
   "source": [
    "plt.subplots(figsize = (3,3))\n",
    "\n",
    "x_stand = [(i-np.mean(x))/np.std(x) for i in x]\n",
    "w_x = pysal.lag_spatial(w, x)\n",
    "wx_stand = [(i-np.mean(w_x))/np.std(w_x) for i in w_x]\n",
    "\n",
    "max_num = max(abs(np.array(x_stand+wx_stand)))+0.1\n",
    "\n",
    "plt.scatter(x_stand, wx_stand)\n",
    "plt.plot([-max_num, max_num], [-max_num*morans_I.I, max_num*morans_I.I], color='red', linestyle='-', linewidth=1)\n",
    "plt.plot([0, 0], [-max_num, max_num], 'k--')\n",
    "plt.plot([-max_num, max_num], [0, 0], 'k--')\n",
    "plt.ylabel('W_x', fontsize=12)\n",
    "plt.xlabel('X', fontsize=12)\n",
    "plt.xlim(-max_num, max_num)\n",
    "plt.ylim(-max_num, max_num)\n",
    "plt.title(\"Moran's I = %0.2f\" % morans_I.I)\n",
    "plt.show()"
   ]
  },
  {
   "cell_type": "markdown",
   "metadata": {
    "deletable": true,
    "editable": true
   },
   "source": [
    "## 1.2 [Geary's C](http://pysal.readthedocs.io/en/latest/users/tutorials/autocorrelation.html#geary-s-c)\n",
    "\n",
    "$$\\textrm{C} = \\frac{(N-1)}{2S_0}\\frac{\\sum_{ij} W_{ij}(X_i-X_j)^2}{\\sum_i (X_i-\\bar{X})^2}$$\n",
    "\n",
    "where $S_0 =\\sum_{ij}W_{ij}$. Geary's $C$ ranges from 0 (maximal positive autocorrelation) to a positive value for high negaive autocorrelation. $C=1$ denotes the absence of autocorrelation and regardless of weight matrix. $C<1$ indicates positive spatial autocorrelation.\n",
    "\n",
    "Moran's I is a more global measure and sensitive to extreme values of features X, whereas Geary's C is more sensitive to differences in small neighborhoods. Usually people use Moran's I.\n",
    "\n",
    "### (a) Clustering pattern (high/low surrounded by high/low) "
   ]
  },
  {
   "cell_type": "code",
   "execution_count": 88,
   "metadata": {
    "collapsed": false,
    "deletable": true,
    "editable": true
   },
   "outputs": [
    {
     "name": "stdout",
     "output_type": "stream",
     "text": [
      "Help on Geary in module pysal.esda.geary object:\n",
      "\n",
      "class Geary(__builtin__.object)\n",
      " |  Global Geary C Autocorrelation statistic\n",
      " |  \n",
      " |  Parameters\n",
      " |  ----------\n",
      " |  y              : array\n",
      " |                   (n, 1) attribute vector\n",
      " |  w              : W\n",
      " |                   spatial weights\n",
      " |  transformation : {'B', 'R', 'D', 'U', 'V'}\n",
      " |                   weights transformation, default is binary.\n",
      " |                   Other options include \"R\": row-standardized, \"D\":\n",
      " |                   doubly-standardized, \"U\": untransformed (general\n",
      " |                   weights), \"V\": variance-stabilizing.\n",
      " |  permutations   : int\n",
      " |                   number of random permutations for calculation of\n",
      " |                   pseudo-p_values\n",
      " |  \n",
      " |  Attributes\n",
      " |  ----------\n",
      " |  y              : array\n",
      " |                   original variable\n",
      " |  w              : W\n",
      " |                   spatial weights\n",
      " |  permutations   : int\n",
      " |                   number of permutations\n",
      " |  C              : float\n",
      " |                   value of statistic\n",
      " |  EC             : float\n",
      " |                   expected value\n",
      " |  VC             : float\n",
      " |                   variance of G under normality assumption\n",
      " |  z_norm         : float\n",
      " |                   z-statistic for C under normality assumption\n",
      " |  z_rand         : float\n",
      " |                   z-statistic for C under randomization assumption\n",
      " |  p_norm         : float\n",
      " |                   p-value under normality assumption (one-tailed)\n",
      " |  p_rand         : float\n",
      " |                   p-value under randomization assumption (one-tailed)\n",
      " |  sim            : array\n",
      " |                   (if permutations!=0)\n",
      " |                   vector of I values for permutated samples\n",
      " |  p_sim          : float\n",
      " |                   (if permutations!=0)\n",
      " |                   p-value based on permutations (one-tailed)\n",
      " |                   null: sptial randomness\n",
      " |                   alternative: the observed C is extreme\n",
      " |                   it is either extremely high or extremely low\n",
      " |  EC_sim         : float\n",
      " |                   (if permutations!=0)\n",
      " |                   average value of C from permutations\n",
      " |  VC_sim         : float\n",
      " |                   (if permutations!=0)\n",
      " |                   variance of C from permutations\n",
      " |  seC_sim        : float\n",
      " |                   (if permutations!=0)\n",
      " |                   standard deviation of C under permutations.\n",
      " |  z_sim          : float\n",
      " |                   (if permutations!=0)\n",
      " |                   standardized C based on permutations\n",
      " |  p_z_sim        : float\n",
      " |                   (if permutations!=0)\n",
      " |                   p-value based on standard normal approximation from\n",
      " |                   permutations (one-tailed)\n",
      " |  \n",
      " |  Examples\n",
      " |  --------\n",
      " |  >>> import pysal\n",
      " |  >>> w = pysal.open(pysal.examples.get_path(\"book.gal\")).read()\n",
      " |  >>> f = pysal.open(pysal.examples.get_path(\"book.txt\"))\n",
      " |  >>> y = np.array(f.by_col['y'])\n",
      " |  >>> c = Geary(y,w,permutations=0)\n",
      " |  >>> print round(c.C,7)\n",
      " |  0.3330108\n",
      " |  >>> print round(c.p_norm,7)\n",
      " |  9.2e-05\n",
      " |  >>> c.z_rand\n",
      " |  -3.6489513837253944\n",
      " |  \n",
      " |  Methods defined here:\n",
      " |  \n",
      " |  __init__(self, y, w, transformation='r', permutations=999)\n",
      " |  \n",
      " |  ----------------------------------------------------------------------\n",
      " |  Class methods defined here:\n",
      " |  \n",
      " |  by_col(cls, df, cols, w=None, inplace=False, pvalue='sim', outvals=None, **stat_kws) from __builtin__.type\n",
      " |      Function to compute a Geary statistic on a dataframe\n",
      " |      \n",
      " |      Arguments\n",
      " |      ---------\n",
      " |      df          :   pandas.DataFrame\n",
      " |                      a pandas dataframe with a geometry column\n",
      " |      cols        :   string or list of string\n",
      " |                      name or list of names of columns to use to compute the statistic\n",
      " |      w           :   pysal weights object\n",
      " |                      a weights object aligned with the dataframe. If not provided, this\n",
      " |                      is searched for in the dataframe's metadata\n",
      " |      inplace     :   bool\n",
      " |                      a boolean denoting whether to operate on the dataframe inplace or to\n",
      " |                      return a series contaning the results of the computation. If\n",
      " |                      operating inplace, with default configurations, \n",
      " |                      the derived columns will be named like 'column_geary' and 'column_p_sim'\n",
      " |      pvalue      :   string\n",
      " |                      a string denoting which pvalue should be returned. Refer to the\n",
      " |                      the Geary statistic's documentation for available p-values\n",
      " |      outvals     :   list of strings\n",
      " |                      list of arbitrary attributes to return as columns from the \n",
      " |                      Geary statistic\n",
      " |      **stat_kws  :   keyword arguments\n",
      " |                      options to pass to the underlying statistic. For this, see the\n",
      " |                      documentation for the Geary statistic.\n",
      " |      \n",
      " |      Returns\n",
      " |      --------\n",
      " |      If inplace, None, and operation is conducted on dataframe in memory. Otherwise,\n",
      " |      returns a copy of the dataframe with the relevant columns attached.\n",
      " |      \n",
      " |      See Also\n",
      " |      ---------\n",
      " |      For further documentation, refer to the Geary class in pysal.esda\n",
      " |  \n",
      " |  ----------------------------------------------------------------------\n",
      " |  Data descriptors defined here:\n",
      " |  \n",
      " |  __dict__\n",
      " |      dictionary for instance variables (if defined)\n",
      " |  \n",
      " |  __weakref__\n",
      " |      list of weak references to the object (if defined)\n",
      "\n",
      "None\n"
     ]
    }
   ],
   "source": [
    "x = np.array([1,1,1,1,1,1,0,0,0])\n",
    "geary_C = pysal.Geary(x, w)\n",
    "print help(geary_C)"
   ]
  },
  {
   "cell_type": "code",
   "execution_count": 87,
   "metadata": {
    "collapsed": false,
    "deletable": true,
    "editable": true
   },
   "outputs": [
    {
     "name": "stdout",
     "output_type": "stream",
     "text": [
      "Geary's C: 0.444444444444 , E[C]: 1.0 , Z-score: -2.48793512434 , p-value: 0.00642435845367\n"
     ]
    }
   ],
   "source": [
    "print \"Geary's C:\", geary_C.C, ', E[C]:', geary_C.EC, ', Z-score:', geary_C.z_norm, ', p-value:', geary_C.p_norm "
   ]
  },
  {
   "cell_type": "markdown",
   "metadata": {
    "deletable": true,
    "editable": true
   },
   "source": [
    "### (b) Outlier pattern (high/low surrounded by low/high)"
   ]
  },
  {
   "cell_type": "code",
   "execution_count": 89,
   "metadata": {
    "collapsed": false,
    "deletable": true,
    "editable": true
   },
   "outputs": [
    {
     "name": "stdout",
     "output_type": "stream",
     "text": [
      "Geary's C: 1.75 , E[C]: 1.0 , Z-score: 3.35871241786 , p-value: 0.000391532562852\n"
     ]
    }
   ],
   "source": [
    "x = np.array([1,0,1,0,1,0,1,0,1])\n",
    "geary_C = pysal.Geary(x, w)\n",
    "print \"Geary's C:\", geary_C.C, ', E[C]:', geary_C.EC, ', Z-score:', geary_C.z_norm, ', p-value:', geary_C.p_norm "
   ]
  },
  {
   "cell_type": "markdown",
   "metadata": {
    "deletable": true,
    "editable": true
   },
   "source": [
    "### (c) Random pattern"
   ]
  },
  {
   "cell_type": "code",
   "execution_count": 92,
   "metadata": {
    "collapsed": false,
    "deletable": true,
    "editable": true
   },
   "outputs": [
    {
     "name": "stdout",
     "output_type": "stream",
     "text": [
      "Geary's C: 1.02264150943 , E[C]: 1.0 , Z-score: 0.10139509186 , p-value: 0.459618416262\n"
     ]
    }
   ],
   "source": [
    "x = np.random.randint(10, size=9)\n",
    "geary_C = pysal.Geary(x, w)\n",
    "print \"Geary's C:\", geary_C.C, ', E[C]:', geary_C.EC, ', Z-score:', geary_C.z_norm, ', p-value:', geary_C.p_norm "
   ]
  },
  {
   "cell_type": "markdown",
   "metadata": {
    "deletable": true,
    "editable": true
   },
   "source": [
    "# 2 Local Spatial Autocorrelation\n",
    "\n",
    "## 2.1 [Local Moran's I](http://pysal.readthedocs.io/en/latest/users/tutorials/autocorrelation.html#local-moran-s-i)\n",
    "\n",
    "$$\\textrm{I}_i = (X_i-\\bar{X})\\frac{\\sum_{j} W_{ij}(X_j-\\bar{X})}{\\big(\\sum_{j \\ne i} (X_j-\\bar{X})^2/(N-1)\\big)}$$\n",
    "\n",
    "The local Moran's I is a list or array; where each number denotes Moran's I for a location. Some literatures use LISA (local indication of spatial association) to denote local Moran's I.\n",
    "\n",
    "### (a) Clustering pattern (high/low surrounded by high/low)"
   ]
  },
  {
   "cell_type": "code",
   "execution_count": 260,
   "metadata": {
    "collapsed": false,
    "deletable": true,
    "editable": true
   },
   "outputs": [
    {
     "data": {
      "text/plain": [
       "9"
      ]
     },
     "execution_count": 260,
     "metadata": {},
     "output_type": "execute_result"
    }
   ],
   "source": [
    "np.random.seed(12345)\n",
    "x = np.array([1,1,1,1,1,1,0,0,0])\n",
    "lmi = pysal.Moran_Local(x,w)\n",
    "lmi.n"
   ]
  },
  {
   "cell_type": "code",
   "execution_count": 238,
   "metadata": {
    "collapsed": false,
    "deletable": true,
    "editable": true
   },
   "outputs": [
    {
     "name": "stdout",
     "output_type": "stream",
     "text": [
      "Help on Moran_Local in module pysal.esda.moran object:\n",
      "\n",
      "class Moran_Local(__builtin__.object)\n",
      " |  Local Moran Statistics\n",
      " |  \n",
      " |  \n",
      " |  Parameters\n",
      " |  ----------\n",
      " |  y              : array\n",
      " |                   (n,1), attribute array\n",
      " |  w              : W\n",
      " |                   weight instance assumed to be aligned with y\n",
      " |  transformation : {'R', 'B', 'D', 'U', 'V'}\n",
      " |                   weights transformation,  default is row-standardized \"r\".\n",
      " |                   Other options include\n",
      " |                   \"B\": binary,\n",
      " |                   \"D\": doubly-standardized,\n",
      " |                   \"U\": untransformed (general weights),\n",
      " |                   \"V\": variance-stabilizing.\n",
      " |  permutations   : int\n",
      " |                   number of random permutations for calculation of pseudo\n",
      " |                   p_values\n",
      " |  geoda_quads    : boolean\n",
      " |                   (default=False)\n",
      " |                   If True use GeoDa scheme: HH=1, LL=2, LH=3, HL=4\n",
      " |                   If False use PySAL Scheme: HH=1, LH=2, LL=3, HL=4\n",
      " |  \n",
      " |  Attributes\n",
      " |  ----------\n",
      " |  \n",
      " |  y            : array\n",
      " |                 original variable\n",
      " |  w            : W\n",
      " |                 original w object\n",
      " |  permutations : int\n",
      " |                 number of random permutations for calculation of pseudo\n",
      " |                 p_values\n",
      " |  Is           : array\n",
      " |                 local Moran's I values\n",
      " |  q            : array\n",
      " |                 (if permutations>0)\n",
      " |                 values indicate quandrant location 1 HH,  2 LH,  3 LL,  4 HL\n",
      " |  sim          : array (permutations by n)\n",
      " |                 (if permutations>0)\n",
      " |                 I values for permuted samples\n",
      " |  p_sim        : array\n",
      " |                 (if permutations>0)\n",
      " |                 p-values based on permutations (one-sided)\n",
      " |                 null: spatial randomness\n",
      " |                 alternative: the observed Ii is further away or extreme\n",
      " |                 from the median of simulated values. It is either extremelyi\n",
      " |                 high or extremely low in the distribution of simulated Is.\n",
      " |  EI_sim       : array\n",
      " |                 (if permutations>0)\n",
      " |                 average values of local Is from permutations\n",
      " |  VI_sim       : array\n",
      " |                 (if permutations>0)\n",
      " |                 variance of Is from permutations\n",
      " |  seI_sim      : array\n",
      " |                 (if permutations>0)\n",
      " |                 standard deviations of Is under permutations.\n",
      " |  z_sim        : arrray\n",
      " |                 (if permutations>0)\n",
      " |                 standardized Is based on permutations\n",
      " |  p_z_sim      : array\n",
      " |                 (if permutations>0)\n",
      " |                 p-values based on standard normal approximation from\n",
      " |                 permutations (one-sided)\n",
      " |                 for two-sided tests, these values should be multiplied by 2\n",
      " |  \n",
      " |  Examples\n",
      " |  --------\n",
      " |  >>> import pysal as ps\n",
      " |  >>> import numpy as np\n",
      " |  >>> np.random.seed(10)\n",
      " |  >>> w = ps.open(ps.examples.get_path(\"desmith.gal\")).read()\n",
      " |  >>> f = ps.open(ps.examples.get_path(\"desmith.txt\"))\n",
      " |  >>> y = np.array(f.by_col['z'])\n",
      " |  >>> lm = ps.Moran_Local(y, w, transformation = \"r\", permutations = 99)\n",
      " |  >>> lm.q\n",
      " |  array([4, 4, 4, 2, 3, 3, 1, 4, 3, 3])\n",
      " |  >>> lm.p_z_sim[0]\n",
      " |  0.24669152541631179\n",
      " |  >>> lm = ps.Moran_Local(y, w, transformation = \"r\", permutations = 99,                             geoda_quads=True)\n",
      " |  >>> lm.q\n",
      " |  array([4, 4, 4, 3, 2, 2, 1, 4, 2, 2])\n",
      " |  \n",
      " |  Note random components result is slightly different values across\n",
      " |  architectures so the results have been removed from doctests and will be\n",
      " |  moved into unittests that are conditional on architectures\n",
      " |  \n",
      " |  Methods defined here:\n",
      " |  \n",
      " |  __init__(self, y, w, transformation='r', permutations=999, geoda_quads=False)\n",
      " |  \n",
      " |  calc(self, w, z)\n",
      " |  \n",
      " |  ----------------------------------------------------------------------\n",
      " |  Class methods defined here:\n",
      " |  \n",
      " |  by_col(cls, df, cols, w=None, inplace=False, pvalue='sim', outvals=None, **stat_kws) from __builtin__.type\n",
      " |      Function to compute a Moran_Local statistic on a dataframe\n",
      " |      \n",
      " |      Arguments\n",
      " |      ---------\n",
      " |      df          :   pandas.DataFrame\n",
      " |                      a pandas dataframe with a geometry column\n",
      " |      cols        :   string or list of string\n",
      " |                      name or list of names of columns to use to compute the statistic\n",
      " |      w           :   pysal weights object\n",
      " |                      a weights object aligned with the dataframe. If not provided, this\n",
      " |                      is searched for in the dataframe's metadata\n",
      " |      inplace     :   bool\n",
      " |                      a boolean denoting whether to operate on the dataframe inplace or to\n",
      " |                      return a series contaning the results of the computation. If\n",
      " |                      operating inplace, the derived columns will be named\n",
      " |                      'column_moran_local'\n",
      " |      pvalue      :   string\n",
      " |                      a string denoting which pvalue should be returned. Refer to the\n",
      " |                      the Moran_Local statistic's documentation for available p-values\n",
      " |      outvals     :   list of strings\n",
      " |                      list of arbitrary attributes to return as columns from the \n",
      " |                      Moran_Local statistic\n",
      " |      **stat_kws  :   keyword arguments\n",
      " |                      options to pass to the underlying statistic. For this, see the\n",
      " |                      documentation for the Moran_Local statistic.\n",
      " |      \n",
      " |      Returns\n",
      " |      --------\n",
      " |      If inplace, None, and operation is conducted on dataframe in memory. Otherwise,\n",
      " |      returns a copy of the dataframe with the relevant columns attached.\n",
      " |      \n",
      " |      See Also\n",
      " |      ---------\n",
      " |      For further documentation, refer to the Moran_Local class in pysal.esda\n",
      " |  \n",
      " |  ----------------------------------------------------------------------\n",
      " |  Data descriptors defined here:\n",
      " |  \n",
      " |  __dict__\n",
      " |      dictionary for instance variables (if defined)\n",
      " |  \n",
      " |  __weakref__\n",
      " |      list of weak references to the object (if defined)\n",
      "\n"
     ]
    }
   ],
   "source": [
    "help(lmi)"
   ]
  },
  {
   "cell_type": "markdown",
   "metadata": {
    "deletable": true,
    "editable": true
   },
   "source": [
    "`lmi.Is` gives local Moran's I values"
   ]
  },
  {
   "cell_type": "code",
   "execution_count": 250,
   "metadata": {
    "collapsed": false,
    "deletable": true,
    "editable": true
   },
   "outputs": [
    {
     "name": "stdout",
     "output_type": "stream",
     "text": [
      "[  4.44444444e-01   4.44444444e-01   4.44444444e-01   3.48909435e-17\n",
      "   4.44444444e-01   3.48909435e-17   4.44444444e-01   8.88888889e-01\n",
      "   4.44444444e-01]\n"
     ]
    }
   ],
   "source": [
    "print lmi.Is"
   ]
  },
  {
   "cell_type": "markdown",
   "metadata": {
    "deletable": true,
    "editable": true
   },
   "source": [
    "`lmi.q` gives values 1-4, indicating quandrant location: 1-HH,  2-LH,  3-LL,  4-HL."
   ]
  },
  {
   "cell_type": "code",
   "execution_count": 252,
   "metadata": {
    "collapsed": false,
    "deletable": true,
    "editable": true
   },
   "outputs": [
    {
     "data": {
      "text/plain": [
       "array([1, 1, 1, 1, 1, 1, 3, 3, 3])"
      ]
     },
     "execution_count": 252,
     "metadata": {},
     "output_type": "execute_result"
    }
   ],
   "source": [
    "lmi.q"
   ]
  },
  {
   "cell_type": "markdown",
   "metadata": {
    "deletable": true,
    "editable": true
   },
   "source": [
    "`lmi.p_sim` provides p-value for each location. "
   ]
  },
  {
   "cell_type": "code",
   "execution_count": 254,
   "metadata": {
    "collapsed": false,
    "deletable": true,
    "editable": true
   },
   "outputs": [
    {
     "data": {
      "text/plain": [
       "array([ 0.351,  0.177,  0.379,  0.177,  0.081,  0.186,  0.022,  0.001,\n",
       "        0.032])"
      ]
     },
     "execution_count": 254,
     "metadata": {},
     "output_type": "execute_result"
    }
   ],
   "source": [
    "lmi.p_sim"
   ]
  },
  {
   "cell_type": "markdown",
   "metadata": {
    "deletable": true,
    "editable": true
   },
   "source": [
    "And one can exmaine areas whose LISA is significant:"
   ]
  },
  {
   "cell_type": "code",
   "execution_count": 261,
   "metadata": {
    "collapsed": false,
    "deletable": true,
    "editable": true
   },
   "outputs": [
    {
     "name": "stdout",
     "output_type": "stream",
     "text": [
      "[ 0.022  0.001  0.032] [3 3 3] ['G' 'H' 'I']\n"
     ]
    }
   ],
   "source": [
    "sig = lmi.p_sim < 0.05\n",
    "print lmi.p_sim[sig], lmi.q[sig], np.array(ids)[sig]"
   ]
  },
  {
   "cell_type": "markdown",
   "metadata": {
    "deletable": true,
    "editable": true
   },
   "source": [
    "### (b) Outlier pattern (high/low surrounded by low/high)¶"
   ]
  },
  {
   "cell_type": "code",
   "execution_count": 263,
   "metadata": {
    "collapsed": false,
    "deletable": true,
    "editable": true
   },
   "outputs": [
    {
     "name": "stdout",
     "output_type": "stream",
     "text": [
      "[-0.88888889 -0.88888889 -0.88888889 -0.88888889 -0.48888889 -0.88888889\n",
      " -0.88888889 -0.88888889 -0.88888889] [4 2 4 2 4 2 4 2 4]\n",
      "[ 0.001  0.001  0.001  0.001  0.017  0.001  0.001  0.001  0.001] ['A' 'B' 'C' 'D' 'E' 'F' 'G' 'H' 'I']\n"
     ]
    }
   ],
   "source": [
    "x = np.array([1,0,1,0,1,0,1,0,1])\n",
    "lmi = pysal.Moran_Local(x,w)\n",
    "sig = lmi.p_sim < 0.05\n",
    "print lmi.Is, lmi.q[sig]\n",
    "print lmi.p_sim[sig], np.array(ids)[sig]"
   ]
  },
  {
   "cell_type": "code",
   "execution_count": null,
   "metadata": {
    "collapsed": true,
    "deletable": true,
    "editable": true
   },
   "outputs": [],
   "source": []
  }
 ],
 "metadata": {
  "anaconda-cloud": {},
  "kernelspec": {
   "display_name": "Python [default]",
   "language": "python",
   "name": "python2"
  },
  "language_info": {
   "codemirror_mode": {
    "name": "ipython",
    "version": 2
   },
   "file_extension": ".py",
   "mimetype": "text/x-python",
   "name": "python",
   "nbconvert_exporter": "python",
   "pygments_lexer": "ipython2",
   "version": "2.7.12"
  }
 },
 "nbformat": 4,
 "nbformat_minor": 2
}
