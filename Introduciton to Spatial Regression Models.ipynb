{
 "cells": [
  {
   "cell_type": "markdown",
   "metadata": {},
   "source": [
    "# Introudction to Spatial Regreesion Models in Python\n",
    "\n",
    "In this note, we will demo how spatial autocorrelation influences regreesion results. We use two data sources: (1) **Columbus home values** with relation to **income** and **crime** by neighborhood, i.e. y = **home values**, x = **income** + **crime**, and (2) **Austin house price** and other features listed in AirBnb.\n",
    "\n",
    "     A. Columbus Data\n",
    "         A.1 Ordinary Least Squares (OLS)\n",
    "         A.2 Spatial autocorrelation - Global Moran's I\n",
    "         A.3 Spatial Lagged y Regression (Wy)\n",
    "         A.4 Spatial Error Regression (We)\n",
    "     B. Austin Data\n",
    "         B.1 Spatial autocorrelation - Global Moran's I\n",
    "         B.2 OLS\n",
    "         B.3 Spatially lagged y regression (Wy)\n",
    "         B.4 Spatially lagged variable regression (WX)\n",
    "         B.5 Spatially lagged variable and y regression (WX+Wy)\n",
    "\n",
    "\n",
    "### Reference\n",
    "\n",
    "1. Official site of spatial regression in pysal $-$ [Spatial regression](http://pysal.readthedocs.io/en/latest/library/spreg/twosls_sp.html) and [spatial regression Diagnostics](http://pysal.readthedocs.io/en/latest/library/spreg/).\n",
    "2. [Youtube introduction](https://www.youtube.com/watch?v=6qZgchGCMds).\n",
    "3. [Introduction to spatial regression](https://earthdatascience.org/tutorials/intro-to-spatial-regression/).\n",
    "4. [Spatial Regression](http://darribas.org/gds_scipy16/ipynb_md/08_spatial_regression.html).\n",
    "5. [Why do we consider spatial lag?](https://blogs.iq.harvard.edu/spatial_lag_1)"
   ]
  },
  {
   "cell_type": "code",
   "execution_count": 169,
   "metadata": {
    "collapsed": true
   },
   "outputs": [],
   "source": [
    "import pysal\n",
    "import numpy as np\n",
    "import pandas as pd\n",
    "from pysal.spreg import ols\n",
    "from pysal.spreg import ml_error\n",
    "from pysal.spreg import ml_lag\n",
    "from pysal.spreg.twosls_sp import GM_Lag\n",
    "import pysal.spreg.diagnostics as D\n",
    "\n",
    "from sklearn.metrics import mean_squared_error as mse\n",
    "\n",
    "from scipy import stats\n",
    "\n",
    "import matplotlib\n",
    "#matplotlib.use(\"nbagg\") #this allows for plotting to happen inside the notebook\n",
    "import matplotlib.pyplot as plt\n",
    "%matplotlib inline"
   ]
  },
  {
   "cell_type": "markdown",
   "metadata": {},
   "source": [
    "# A. Columbus Data\n",
    "\n",
    "The codes and data are followed from the tutorial pages [Introduction to spatial regression](https://earthdatascience.org/tutorials/intro-to-spatial-regression/) at EarthLab."
   ]
  },
  {
   "cell_type": "code",
   "execution_count": 330,
   "metadata": {
    "collapsed": true
   },
   "outputs": [],
   "source": [
    "f = pysal.open(pysal.examples.get_path(\"columbus.dbf\"),'r')\n",
    "y = np.array(f.by_col['HOVAL'])\n",
    "y.shape = (len(y),1)"
   ]
  },
  {
   "cell_type": "markdown",
   "metadata": {},
   "source": [
    "The feature variables include:"
   ]
  },
  {
   "cell_type": "code",
   "execution_count": 331,
   "metadata": {
    "collapsed": false
   },
   "outputs": [
    {
     "data": {
      "text/plain": [
       "[u'AREA',\n",
       " u'PERIMETER',\n",
       " u'COLUMBUS_',\n",
       " u'COLUMBUS_I',\n",
       " u'POLYID',\n",
       " u'NEIG',\n",
       " u'HOVAL',\n",
       " u'INC',\n",
       " u'CRIME',\n",
       " u'OPEN',\n",
       " u'PLUMB',\n",
       " u'DISCBD',\n",
       " u'X',\n",
       " u'Y',\n",
       " u'NSA',\n",
       " u'NSB',\n",
       " u'EW',\n",
       " u'CP',\n",
       " u'THOUS',\n",
       " u'NEIGNO']"
      ]
     },
     "execution_count": 331,
     "metadata": {},
     "output_type": "execute_result"
    }
   ],
   "source": [
    "f.header"
   ]
  },
  {
   "cell_type": "markdown",
   "metadata": {},
   "source": [
    "Among the features, we only consider two variables, `income` and `crime`:"
   ]
  },
  {
   "cell_type": "code",
   "execution_count": 332,
   "metadata": {
    "collapsed": false
   },
   "outputs": [
    {
     "data": {
      "text/plain": [
       "(49, 2)"
      ]
     },
     "execution_count": 332,
     "metadata": {},
     "output_type": "execute_result"
    }
   ],
   "source": [
    "X= []\n",
    "X.append(f.by_col['INC'])\n",
    "X.append(f.by_col['CRIME'])\n",
    "X = np.array(X).T\n",
    "X.shape"
   ]
  },
  {
   "cell_type": "markdown",
   "metadata": {},
   "source": [
    "Now X (feature) turns to a $49\\times 2$ numpy matrix, and each row denotes an observation."
   ]
  },
  {
   "cell_type": "code",
   "execution_count": 25,
   "metadata": {
    "collapsed": false
   },
   "outputs": [
    {
     "data": {
      "text/plain": [
       "array([[ 19.531   ,  15.72598 ],\n",
       "       [ 21.232   ,  18.801754],\n",
       "       [ 15.956   ,  30.626781],\n",
       "       [  4.477   ,  32.38776 ],\n",
       "       [ 11.252   ,  50.73151 ]])"
      ]
     },
     "execution_count": 25,
     "metadata": {},
     "output_type": "execute_result"
    }
   ],
   "source": [
    "X[:5]"
   ]
  },
  {
   "cell_type": "markdown",
   "metadata": {},
   "source": [
    "## A.1 Ordinary Least Squares (OLS)\n",
    "\n",
    "OLS is a linear regression model assuming all data are independent each other. The model reads\n",
    "\n",
    "$$y=\\beta X +\\epsilon$$\n",
    "\n",
    "Here y = `HOVAL` and X = (`INC` and `CRIME`)."
   ]
  },
  {
   "cell_type": "code",
   "execution_count": 333,
   "metadata": {
    "collapsed": false
   },
   "outputs": [
    {
     "name": "stdout",
     "output_type": "stream",
     "text": [
      "REGRESSION\n",
      "----------\n",
      "SUMMARY OF OUTPUT: ORDINARY LEAST SQUARES\n",
      "-----------------------------------------\n",
      "Data set            :    Columbus\n",
      "Weights matrix      :        None\n",
      "Dependent Variable  :    home val                Number of Observations:          49\n",
      "Mean dependent var  :     38.4362                Number of Variables   :           3\n",
      "S.D. dependent var  :     18.4661                Degrees of Freedom    :          46\n",
      "R-squared           :      0.3495\n",
      "Adjusted R-squared  :      0.3212\n",
      "Sum squared residual:   10647.015                F-statistic           :     12.3582\n",
      "Sigma-square        :     231.457                Prob(F-statistic)     :   5.064e-05\n",
      "S.E. of regression  :      15.214                Log likelihood        :    -201.368\n",
      "Sigma-square ML     :     217.286                Akaike info criterion :     408.735\n",
      "S.E of regression ML:     14.7406                Schwarz criterion     :     414.411\n",
      "\n",
      "------------------------------------------------------------------------------------\n",
      "            Variable     Coefficient       Std.Error     t-Statistic     Probability\n",
      "------------------------------------------------------------------------------------\n",
      "            CONSTANT      46.4281827      13.1917570       3.5194844       0.0009867\n",
      "              Income       0.6289840       0.5359104       1.1736736       0.2465669\n",
      "               Crime      -0.4848885       0.1826729      -2.6544086       0.0108745\n",
      "------------------------------------------------------------------------------------\n",
      "\n",
      "REGRESSION DIAGNOSTICS\n",
      "MULTICOLLINEARITY CONDITION NUMBER           12.538\n",
      "\n",
      "TEST ON NORMALITY OF ERRORS\n",
      "TEST                             DF        VALUE           PROB\n",
      "Jarque-Bera                       2          39.706           0.0000\n",
      "\n",
      "DIAGNOSTICS FOR HETEROSKEDASTICITY\n",
      "RANDOM COEFFICIENTS\n",
      "TEST                             DF        VALUE           PROB\n",
      "Breusch-Pagan test                2           5.767           0.0559\n",
      "Koenker-Bassett test              2           2.270           0.3214\n",
      "================================ END OF REPORT =====================================\n"
     ]
    }
   ],
   "source": [
    "ls = ols.OLS(y, X, name_y = 'home val', name_x = ['Income', 'Crime'], name_ds = 'Columbus')\n",
    "print(ls.summary)"
   ]
  },
  {
   "cell_type": "markdown",
   "metadata": {},
   "source": [
    "The regression shows the **house price** is inversely monotonic upon **crime rate**. One unit of increased crime rate results in decreased price (in unit of 0.62) on **home price**. The **income** however does not have significant impact to the **Columbus house price**; the p-value is larger than 0.05. The mean square error is"
   ]
  },
  {
   "cell_type": "code",
   "execution_count": 334,
   "metadata": {
    "collapsed": false
   },
   "outputs": [
    {
     "data": {
      "text/plain": [
       "217.28602192257543"
      ]
     },
     "execution_count": 334,
     "metadata": {},
     "output_type": "execute_result"
    }
   ],
   "source": [
    "mse(y.flatten(), ls.predy.flatten())"
   ]
  },
  {
   "cell_type": "markdown",
   "metadata": {},
   "source": [
    "** Note that the multiollinearity condition number is 12!** That indicates that there exists correlation between `INC` and `CRIME` features. We can further examine the Pearson correlation coefficient:"
   ]
  },
  {
   "cell_type": "code",
   "execution_count": 31,
   "metadata": {
    "collapsed": false
   },
   "outputs": [
    {
     "name": "stdout",
     "output_type": "stream",
     "text": [
      "(-0.69558977345846218, 2.9010250086454949e-08)\n"
     ]
    }
   ],
   "source": [
    "print stats.pearsonr(f.by_col['INC'], f.by_col['CRIME'])"
   ]
  },
  {
   "cell_type": "markdown",
   "metadata": {},
   "source": [
    "We see the correlation magnitude is about 0.7; indicating strong correlation. The negative sign means areas where house owners with higher income have lower crime rates."
   ]
  },
  {
   "cell_type": "markdown",
   "metadata": {},
   "source": [
    "## A.2 Spatial autocorrelation - Global Moran's I"
   ]
  },
  {
   "cell_type": "markdown",
   "metadata": {},
   "source": [
    "OLS regression assumes that each observation is independent from all others. However, in practice, locations that are near each other are not likely to be independent, i.e. expansive houses are close to expansive houses. To quantitively examine if there exists spatial autocorrelation in house price, we evaluate spatial autocorrelation in the residuals with Moran’s I test. First prepare the weight matrix:"
   ]
  },
  {
   "cell_type": "code",
   "execution_count": 335,
   "metadata": {
    "collapsed": false
   },
   "outputs": [
    {
     "data": {
      "text/plain": [
       "(pysal.weights.weights.W, 9.82923781757601)"
      ]
     },
     "execution_count": 335,
     "metadata": {},
     "output_type": "execute_result"
    }
   ],
   "source": [
    "w = pysal.open(pysal.examples.get_path(\"columbus.gal\")).read()\n",
    "type(w), w.pct_nonzero"
   ]
  },
  {
   "cell_type": "code",
   "execution_count": 336,
   "metadata": {
    "collapsed": false
   },
   "outputs": [
    {
     "name": "stdout",
     "output_type": "stream",
     "text": [
      "<type 'numpy.ndarray'> (49, 49)\n"
     ]
    }
   ],
   "source": [
    "weight, ids = w.full()\n",
    "print type(weight), weight.shape"
   ]
  },
  {
   "cell_type": "code",
   "execution_count": 38,
   "metadata": {
    "collapsed": false
   },
   "outputs": [
    {
     "data": {
      "text/plain": [
       "array([[ 0.,  1.,  1., ...,  0.,  0.,  0.],\n",
       "       [ 1.,  0.,  1., ...,  0.,  0.,  0.],\n",
       "       [ 1.,  1.,  0., ...,  0.,  0.,  0.],\n",
       "       ..., \n",
       "       [ 0.,  0.,  0., ...,  0.,  0.,  0.],\n",
       "       [ 0.,  0.,  0., ...,  0.,  0.,  1.],\n",
       "       [ 0.,  0.,  0., ...,  0.,  1.,  0.]])"
      ]
     },
     "execution_count": 38,
     "metadata": {},
     "output_type": "execute_result"
    }
   ],
   "source": [
    "weight"
   ]
  },
  {
   "cell_type": "code",
   "execution_count": 298,
   "metadata": {
    "collapsed": false
   },
   "outputs": [
    {
     "data": {
      "text/plain": [
       "(pysal.weights.Contiguity.Rook, 8.329862557267806)"
      ]
     },
     "execution_count": 298,
     "metadata": {},
     "output_type": "execute_result"
    }
   ],
   "source": [
    "w2 = pysal.rook_from_shapefile(pysal.examples.get_path(\"columbus.shp\"))\n",
    "type(w2), w2.pct_nonzero"
   ]
  },
  {
   "cell_type": "code",
   "execution_count": 41,
   "metadata": {
    "collapsed": false
   },
   "outputs": [
    {
     "name": "stdout",
     "output_type": "stream",
     "text": [
      "<type 'numpy.ndarray'> (49, 49)\n",
      "[[ 0.  1.  1. ...,  0.  0.  0.]\n",
      " [ 1.  0.  1. ...,  0.  0.  0.]\n",
      " [ 1.  1.  0. ...,  0.  0.  0.]\n",
      " ..., \n",
      " [ 0.  0.  0. ...,  0.  0.  0.]\n",
      " [ 0.  0.  0. ...,  0.  0.  1.]\n",
      " [ 0.  0.  0. ...,  0.  1.  0.]]\n"
     ]
    }
   ],
   "source": [
    "weight, ids = w2.full()\n",
    "print type(weight), weight.shape\n",
    "print weight"
   ]
  },
  {
   "cell_type": "markdown",
   "metadata": {},
   "source": [
    "To verify whether there is spatial correlation in our **model target** `home value`, we compute the Moran's I for `y` "
   ]
  },
  {
   "cell_type": "code",
   "execution_count": 337,
   "metadata": {
    "collapsed": false
   },
   "outputs": [
    {
     "name": "stdout",
     "output_type": "stream",
     "text": [
      "Moran's I = 0.180 , Z-score = 2.171 , p-value = 0.015\n"
     ]
    }
   ],
   "source": [
    "mi = pysal.Moran(y, w, two_tailed=False)\n",
    "print \"Moran's I = %.3f\" %round(mi.I,3), ', Z-score = %.3f'%round(mi.z_norm,3), ', p-value = %.3f' %round(mi.p_norm,3)"
   ]
  },
  {
   "cell_type": "markdown",
   "metadata": {},
   "source": [
    "On the other hand, to verify whether there is spatial correlation in our **model residuals**, we compute Moran's I for `ls.u`"
   ]
  },
  {
   "cell_type": "code",
   "execution_count": 310,
   "metadata": {
    "collapsed": false
   },
   "outputs": [
    {
     "name": "stdout",
     "output_type": "stream",
     "text": [
      "Moran's I = 0.171 , Z-score = 2.076 , p-value = 0.019\n"
     ]
    }
   ],
   "source": [
    "mi = pysal.Moran(ls.u, w, two_tailed=False)\n",
    "print \"Moran's I = %.3f\" %round(mi.I,3), ', Z-score = %.3f'%round(mi.z_norm,3), ', p-value = %.3f' %round(mi.p_norm,3) "
   ]
  },
  {
   "cell_type": "markdown",
   "metadata": {},
   "source": [
    "From small values of Moran's I, we can interpret weak spatial autocorrelation on target and model residuals. Therefore we cannot expect significant model improvement using spatial regreesion models. In the following we will demontrate this behavior."
   ]
  },
  {
   "cell_type": "markdown",
   "metadata": {},
   "source": [
    "## A.3 Spatial lagged y regression (Wy)\n",
    "\n",
    "This model considers spatially lagged target, i.e. average house price over a house. The model reads as\n",
    "\n",
    "$$y=\\rho W y+\\beta X +\\epsilon,$$\n",
    "\n",
    "where $\\rho W y$ denotes the spatially lagged y. In the followings, we implement maximum likelihood and spatial two stage least squares to solve models. Both of them are available in `pysal`.\n",
    "\n",
    "###  Maximum likelihood spatial lag"
   ]
  },
  {
   "cell_type": "code",
   "execution_count": 342,
   "metadata": {
    "collapsed": false
   },
   "outputs": [
    {
     "name": "stdout",
     "output_type": "stream",
     "text": [
      "REGRESSION\n",
      "----------\n",
      "SUMMARY OF OUTPUT: MAXIMUM LIKELIHOOD SPATIAL LAG (METHOD = FULL)\n",
      "-----------------------------------------------------------------\n",
      "Data set            :columbus home spatial regression\n",
      "Weights matrix      :columbus.gal\n",
      "Dependent Variable  :  home value                Number of Observations:          49\n",
      "Mean dependent var  :     38.4362                Number of Variables   :           4\n",
      "S.D. dependent var  :     18.4661                Degrees of Freedom    :          45\n",
      "Pseudo R-squared    :      0.3668\n",
      "Spatial Pseudo R-squared:  0.3315\n",
      "Sigma-square ML     :     211.532                Log likelihood        :    -200.880\n",
      "S.E of regression   :      14.544                Akaike info criterion :     409.760\n",
      "                                                 Schwarz criterion     :     417.328\n",
      "\n",
      "------------------------------------------------------------------------------------\n",
      "            Variable     Coefficient       Std.Error     z-Statistic     Probability\n",
      "------------------------------------------------------------------------------------\n",
      "            CONSTANT      39.6683230      14.3249301       2.7691809       0.0056197\n",
      "              income       0.5793246       0.5189236       1.1163967       0.2642524\n",
      "               crime      -0.4635396       0.1800053      -2.5751442       0.0100198\n",
      "        W_home value       0.1748474       0.1669349       1.0473987       0.2949157\n",
      "------------------------------------------------------------------------------------\n",
      "================================ END OF REPORT =====================================\n"
     ]
    }
   ],
   "source": [
    "spat_lag1 = ml_lag.ML_Lag(y, X, w, \n",
    "                             name_y='home value', name_x=['income','crime'], \n",
    "                             name_w='columbus.gal', name_ds='columbus home spatial regression')\n",
    "print(spat_lag1.summary)"
   ]
  },
  {
   "cell_type": "code",
   "execution_count": 343,
   "metadata": {
    "collapsed": false
   },
   "outputs": [
    {
     "data": {
      "text/plain": [
       "211.53169092723425"
      ]
     },
     "execution_count": 343,
     "metadata": {},
     "output_type": "execute_result"
    }
   ],
   "source": [
    "mse(y.flatten(), spat_lag1.predy.flatten())"
   ]
  },
  {
   "cell_type": "markdown",
   "metadata": {},
   "source": [
    "###  Spatial two stage least squares"
   ]
  },
  {
   "cell_type": "code",
   "execution_count": 344,
   "metadata": {
    "collapsed": false
   },
   "outputs": [
    {
     "name": "stdout",
     "output_type": "stream",
     "text": [
      "REGRESSION\n",
      "----------\n",
      "SUMMARY OF OUTPUT: SPATIAL TWO STAGE LEAST SQUARES\n",
      "--------------------------------------------------\n",
      "Data set            :    columbus\n",
      "Weights matrix      :     unknown\n",
      "Dependent Variable  :  home value                Number of Observations:          49\n",
      "Mean dependent var  :     38.4362                Number of Variables   :           4\n",
      "S.D. dependent var  :     18.4661                Degrees of Freedom    :          45\n",
      "Pseudo R-squared    :      0.3331\n",
      "Spatial Pseudo R-squared:  0.3557\n",
      "\n",
      "White Standard Errors\n",
      "------------------------------------------------------------------------------------\n",
      "            Variable     Coefficient       Std.Error     z-Statistic     Probability\n",
      "------------------------------------------------------------------------------------\n",
      "            CONSTANT      50.1960005      20.3474921       2.4669379       0.0136274\n",
      "              income       0.6566632       0.4961750       1.3234508       0.1856855\n",
      "               crime      -0.4967880       0.1988116      -2.4987878       0.0124619\n",
      "        W_home value      -0.0974566       0.3625388      -0.2688171       0.7880704\n",
      "------------------------------------------------------------------------------------\n",
      "Instrumented: W_home value\n",
      "Instruments: W2_crime, W2_income, W_crime, W_income\n",
      "================================ END OF REPORT =====================================\n"
     ]
    }
   ],
   "source": [
    "spat_reg2 = GM_Lag(y, X, w=w, w_lags=2, robust='white', name_x=['income', 'crime'], name_y='home value', name_ds='columbus')\n",
    "print spat_reg2.summary"
   ]
  },
  {
   "cell_type": "code",
   "execution_count": 346,
   "metadata": {
    "collapsed": false
   },
   "outputs": [
    {
     "data": {
      "text/plain": [
       "222.86845260707244"
      ]
     },
     "execution_count": 346,
     "metadata": {},
     "output_type": "execute_result"
    }
   ],
   "source": [
    "mse(y.flatten(), spat_reg2.predy.flatten())"
   ]
  },
  {
   "cell_type": "code",
   "execution_count": 347,
   "metadata": {
    "collapsed": false
   },
   "outputs": [
    {
     "data": {
      "text/plain": [
       "array([[ 50.1960005 ],\n",
       "       [  0.65666318],\n",
       "       [ -0.49678804],\n",
       "       [ -0.09745662]])"
      ]
     },
     "execution_count": 347,
     "metadata": {},
     "output_type": "execute_result"
    }
   ],
   "source": [
    "spat_reg2.betas"
   ]
  },
  {
   "cell_type": "code",
   "execution_count": 350,
   "metadata": {
    "collapsed": false
   },
   "outputs": [
    {
     "data": {
      "text/plain": [
       "array([ 20.34749212,   0.49617498,   0.19881162,   0.36253875])"
      ]
     },
     "execution_count": 350,
     "metadata": {},
     "output_type": "execute_result"
    }
   ],
   "source": [
    "spat_reg2.std_err"
   ]
  },
  {
   "cell_type": "markdown",
   "metadata": {},
   "source": [
    "**Summary**\n",
    "\n",
    "We see with the spatially lagged target terms, the coefficients of **income** and **crime** do not have significant difference; **income** is still statistically insignificant. \n",
    "\n",
    "Both spatial regression models show the **spatially lagged home values** are insignificant. Therefore, the spatial regression is not better than the OLS. This observation is consisitent with a small Moran's I on target value.\n",
    "\n",
    "The ML-spatially lagged y regression gives lowest MSE."
   ]
  },
  {
   "cell_type": "markdown",
   "metadata": {},
   "source": [
    "## A.4 Spatial error regression ($W\\epsilon$)\n",
    "\n",
    "$$y = \\lambda W\\epsilon + \\beta X + \\epsilon$$"
   ]
  },
  {
   "cell_type": "code",
   "execution_count": 351,
   "metadata": {
    "collapsed": false
   },
   "outputs": [
    {
     "name": "stdout",
     "output_type": "stream",
     "text": [
      "REGRESSION\n",
      "----------\n",
      "SUMMARY OF OUTPUT: MAXIMUM LIKELIHOOD SPATIAL ERROR (METHOD = FULL)\n",
      "-------------------------------------------------------------------\n",
      "Data set            :    columbus\n",
      "Weights matrix      :columbus.gal\n",
      "Dependent Variable  :  home value                Number of Observations:          49\n",
      "Mean dependent var  :     38.4362                Number of Variables   :           3\n",
      "S.D. dependent var  :     18.4661                Degrees of Freedom    :          46\n",
      "Pseudo R-squared    :      0.3495\n",
      "Sigma-square ML     :     197.314                Log likelihood        :    -199.769\n",
      "S.E of regression   :      14.047                Akaike info criterion :     405.537\n",
      "                                                 Schwarz criterion     :     411.213\n",
      "\n",
      "------------------------------------------------------------------------------------\n",
      "            Variable     Coefficient       Std.Error     z-Statistic     Probability\n",
      "------------------------------------------------------------------------------------\n",
      "            CONSTANT      47.8090724      12.3906790       3.8584707       0.0001141\n",
      "              income       0.7213778       0.5029284       1.4343548       0.1514710\n",
      "               crime      -0.5576102       0.1788127      -3.1184037       0.0018183\n",
      "              lambda       0.3578232       0.1705868       2.0976014       0.0359404\n",
      "------------------------------------------------------------------------------------\n",
      "================================ END OF REPORT =====================================\n"
     ]
    }
   ],
   "source": [
    "spat_err = ml_error.ML_Error(y, X, w, \n",
    "                             name_y='home value', name_x=['income','crime'], \n",
    "                             name_w='columbus.gal', name_ds='columbus')\n",
    "print(spat_err.summary)"
   ]
  },
  {
   "cell_type": "markdown",
   "metadata": {},
   "source": [
    "Now, with considering spatially lagged errors, $\\lambda$ is slightly below 0.05, and contirbute to the regression models. "
   ]
  },
  {
   "cell_type": "code",
   "execution_count": 352,
   "metadata": {
    "collapsed": false
   },
   "outputs": [
    {
     "data": {
      "text/plain": [
       "219.90604442609077"
      ]
     },
     "execution_count": 352,
     "metadata": {},
     "output_type": "execute_result"
    }
   ],
   "source": [
    "mse(y.flatten(), spat_err.predy.flatten())"
   ]
  },
  {
   "cell_type": "markdown",
   "metadata": {},
   "source": [
    "The MSE is even slightly worse than OLS."
   ]
  },
  {
   "cell_type": "markdown",
   "metadata": {},
   "source": [
    "# B. Austin Data\n",
    "\n",
    "This part implement home value data from [Airbnb](http://insideairbnb.com/get-the-data.html). Here we follow the [tutorial lectures](http://darribas.org/gds_scipy16/ipynb_md/08_spatial_regression.html)."
   ]
  },
  {
   "cell_type": "code",
   "execution_count": 355,
   "metadata": {
    "collapsed": false
   },
   "outputs": [
    {
     "data": {
      "text/plain": [
       "(9663, 95)"
      ]
     },
     "execution_count": 355,
     "metadata": {},
     "output_type": "execute_result"
    }
   ],
   "source": [
    "austin_data = pd.read_csv('listings.csv')\n",
    "austin_data.shape"
   ]
  },
  {
   "cell_type": "code",
   "execution_count": 356,
   "metadata": {
    "collapsed": false
   },
   "outputs": [
    {
     "data": {
      "text/plain": [
       "(9611, 9)"
      ]
     },
     "execution_count": 356,
     "metadata": {},
     "output_type": "execute_result"
    }
   ],
   "source": [
    "austin_data = austin_data[['host_listings_count', 'bathrooms', 'bedrooms', 'beds', 'guests_included', 'amenities', 'price', 'longitude', 'latitude']].dropna()\n",
    "austin_data.shape"
   ]
  },
  {
   "cell_type": "code",
   "execution_count": 357,
   "metadata": {
    "collapsed": false
   },
   "outputs": [
    {
     "data": {
      "text/plain": [
       "Index([u'host_listings_count', u'bathrooms', u'bedrooms', u'beds',\n",
       "       u'guests_included', u'amenities', u'price', u'longitude', u'latitude'],\n",
       "      dtype='object')"
      ]
     },
     "execution_count": 357,
     "metadata": {},
     "output_type": "execute_result"
    }
   ],
   "source": [
    "austin_data.columns"
   ]
  },
  {
   "cell_type": "code",
   "execution_count": 358,
   "metadata": {
    "collapsed": false
   },
   "outputs": [],
   "source": [
    "def has_pool(a):\n",
    "    if 'Pool' in a:\n",
    "        return 1\n",
    "    else:\n",
    "        return 0\n",
    "\n",
    "austin_data['pool'] = austin_data['amenities'].apply(has_pool)\n",
    "austin_data['price'] = austin_data['price'].apply(lambda x: float(x.strip('$').replace(',', '')))"
   ]
  },
  {
   "cell_type": "code",
   "execution_count": 360,
   "metadata": {
    "collapsed": false
   },
   "outputs": [
    {
     "data": {
      "text/html": [
       "<div>\n",
       "<table border=\"1\" class=\"dataframe\">\n",
       "  <thead>\n",
       "    <tr style=\"text-align: right;\">\n",
       "      <th></th>\n",
       "      <th>host_listings_count</th>\n",
       "      <th>bathrooms</th>\n",
       "      <th>bedrooms</th>\n",
       "      <th>beds</th>\n",
       "      <th>guests_included</th>\n",
       "      <th>pool</th>\n",
       "    </tr>\n",
       "  </thead>\n",
       "  <tbody>\n",
       "    <tr>\n",
       "      <th>0</th>\n",
       "      <td>1.0</td>\n",
       "      <td>2.0</td>\n",
       "      <td>3.0</td>\n",
       "      <td>4.0</td>\n",
       "      <td>1</td>\n",
       "      <td>0</td>\n",
       "    </tr>\n",
       "    <tr>\n",
       "      <th>1</th>\n",
       "      <td>1.0</td>\n",
       "      <td>2.0</td>\n",
       "      <td>3.0</td>\n",
       "      <td>5.0</td>\n",
       "      <td>8</td>\n",
       "      <td>0</td>\n",
       "    </tr>\n",
       "    <tr>\n",
       "      <th>2</th>\n",
       "      <td>1.0</td>\n",
       "      <td>1.0</td>\n",
       "      <td>1.0</td>\n",
       "      <td>2.0</td>\n",
       "      <td>4</td>\n",
       "      <td>0</td>\n",
       "    </tr>\n",
       "    <tr>\n",
       "      <th>3</th>\n",
       "      <td>3.0</td>\n",
       "      <td>3.0</td>\n",
       "      <td>4.0</td>\n",
       "      <td>5.0</td>\n",
       "      <td>1</td>\n",
       "      <td>0</td>\n",
       "    </tr>\n",
       "    <tr>\n",
       "      <th>4</th>\n",
       "      <td>1.0</td>\n",
       "      <td>1.0</td>\n",
       "      <td>1.0</td>\n",
       "      <td>1.0</td>\n",
       "      <td>1</td>\n",
       "      <td>0</td>\n",
       "    </tr>\n",
       "  </tbody>\n",
       "</table>\n",
       "</div>"
      ],
      "text/plain": [
       "   host_listings_count  bathrooms  bedrooms  beds  guests_included  pool\n",
       "0                  1.0        2.0       3.0   4.0                1     0\n",
       "1                  1.0        2.0       3.0   5.0                8     0\n",
       "2                  1.0        1.0       1.0   2.0                4     0\n",
       "3                  3.0        3.0       4.0   5.0                1     0\n",
       "4                  1.0        1.0       1.0   1.0                1     0"
      ]
     },
     "execution_count": 360,
     "metadata": {},
     "output_type": "execute_result"
    }
   ],
   "source": [
    "X = austin_data[['host_listings_count', 'bathrooms', 'bedrooms', 'beds', 'guests_included', 'pool']]\n",
    "X.head()"
   ]
  },
  {
   "cell_type": "code",
   "execution_count": 359,
   "metadata": {
    "collapsed": false
   },
   "outputs": [],
   "source": [
    "y = austin_data['price']\n",
    "y = np.array(y.tolist())\n",
    "y.shape = (len(y),1)  ## since pysal spatial regression only accpets all input as two-D array, this step is necessary\n",
    "                      ## otherwise Y is only an one-D array."
   ]
  },
  {
   "cell_type": "markdown",
   "metadata": {},
   "source": [
    "### Spatial weight matrix w"
   ]
  },
  {
   "cell_type": "markdown",
   "metadata": {},
   "source": [
    "Here we create the spatial weight matrix using [`knnW_form_array`](http://pysal.readthedocs.io/en/latest/library/weights/user.html#pysal.weights.user.knnW_from_array) model in pysal. In the default setting, $k=p=2$. k means the number of nearest neighbors; $p=2$ uses Euclidean distance and $p=1$ uses Manhattan distance. Weights object returns with binary weights."
   ]
  },
  {
   "cell_type": "code",
   "execution_count": 362,
   "metadata": {
    "collapsed": false
   },
   "outputs": [
    {
     "data": {
      "text/plain": [
       "<pysal.weights.Distance.KNN at 0x13178e1d0>"
      ]
     },
     "execution_count": 362,
     "metadata": {},
     "output_type": "execute_result"
    }
   ],
   "source": [
    "w = pysal.knnW_from_array(austin_data.loc[austin_data.index, ['longitude', 'latitude']].values) # default k=2\n",
    "w.transform = 'R' # row-normalize the weight matrix\n",
    "w"
   ]
  },
  {
   "cell_type": "code",
   "execution_count": 363,
   "metadata": {
    "collapsed": false
   },
   "outputs": [
    {
     "data": {
      "text/plain": [
       "9611"
      ]
     },
     "execution_count": 363,
     "metadata": {},
     "output_type": "execute_result"
    }
   ],
   "source": [
    "w.n"
   ]
  },
  {
   "cell_type": "code",
   "execution_count": 215,
   "metadata": {
    "collapsed": true
   },
   "outputs": [],
   "source": [
    "weight, ids = w.full()"
   ]
  },
  {
   "cell_type": "code",
   "execution_count": 216,
   "metadata": {
    "collapsed": false
   },
   "outputs": [
    {
     "data": {
      "text/plain": [
       "array([[ 0.,  0.,  0., ...,  0.,  0.,  0.],\n",
       "       [ 0.,  0.,  0., ...,  0.,  0.,  0.],\n",
       "       [ 0.,  0.,  0., ...,  0.,  0.,  0.],\n",
       "       ..., \n",
       "       [ 0.,  0.,  0., ...,  0.,  0.,  0.],\n",
       "       [ 0.,  0.,  0., ...,  0.,  0.,  0.],\n",
       "       [ 0.,  0.,  0., ...,  0.,  0.,  0.]])"
      ]
     },
     "execution_count": 216,
     "metadata": {},
     "output_type": "execute_result"
    }
   ],
   "source": [
    "weight"
   ]
  },
  {
   "cell_type": "code",
   "execution_count": 217,
   "metadata": {
    "collapsed": false
   },
   "outputs": [
    {
     "data": {
      "text/plain": [
       "0.02080948912704193"
      ]
     },
     "execution_count": 217,
     "metadata": {},
     "output_type": "execute_result"
    }
   ],
   "source": [
    "w.pct_nonzero"
   ]
  },
  {
   "cell_type": "markdown",
   "metadata": {},
   "source": [
    "## B.1 Spatial autocorrelation - Global Moran's I"
   ]
  },
  {
   "cell_type": "code",
   "execution_count": 364,
   "metadata": {
    "collapsed": false
   },
   "outputs": [
    {
     "data": {
      "text/html": [
       "<div>\n",
       "<table border=\"1\" class=\"dataframe\">\n",
       "  <thead>\n",
       "    <tr style=\"text-align: right;\">\n",
       "      <th></th>\n",
       "      <th>Feature</th>\n",
       "      <th>Moran's I</th>\n",
       "      <th>Z-score</th>\n",
       "      <th>p-value</th>\n",
       "    </tr>\n",
       "  </thead>\n",
       "  <tbody>\n",
       "    <tr>\n",
       "      <th>0</th>\n",
       "      <td>host_listings_count</td>\n",
       "      <td>0.048</td>\n",
       "      <td>5.153</td>\n",
       "      <td>0.0</td>\n",
       "    </tr>\n",
       "    <tr>\n",
       "      <th>1</th>\n",
       "      <td>bathrooms</td>\n",
       "      <td>0.164</td>\n",
       "      <td>17.521</td>\n",
       "      <td>0.0</td>\n",
       "    </tr>\n",
       "    <tr>\n",
       "      <th>2</th>\n",
       "      <td>bedrooms</td>\n",
       "      <td>0.129</td>\n",
       "      <td>13.765</td>\n",
       "      <td>0.0</td>\n",
       "    </tr>\n",
       "    <tr>\n",
       "      <th>3</th>\n",
       "      <td>beds</td>\n",
       "      <td>0.134</td>\n",
       "      <td>14.269</td>\n",
       "      <td>0.0</td>\n",
       "    </tr>\n",
       "    <tr>\n",
       "      <th>4</th>\n",
       "      <td>guests_included</td>\n",
       "      <td>0.051</td>\n",
       "      <td>5.488</td>\n",
       "      <td>0.0</td>\n",
       "    </tr>\n",
       "    <tr>\n",
       "      <th>5</th>\n",
       "      <td>pool</td>\n",
       "      <td>0.457</td>\n",
       "      <td>48.802</td>\n",
       "      <td>0.0</td>\n",
       "    </tr>\n",
       "    <tr>\n",
       "      <th>6</th>\n",
       "      <td>price</td>\n",
       "      <td>0.118</td>\n",
       "      <td>12.606</td>\n",
       "      <td>0.0</td>\n",
       "    </tr>\n",
       "  </tbody>\n",
       "</table>\n",
       "</div>"
      ],
      "text/plain": [
       "               Feature  Moran's I  Z-score  p-value\n",
       "0  host_listings_count      0.048    5.153      0.0\n",
       "1            bathrooms      0.164   17.521      0.0\n",
       "2             bedrooms      0.129   13.765      0.0\n",
       "3                 beds      0.134   14.269      0.0\n",
       "4      guests_included      0.051    5.488      0.0\n",
       "5                 pool      0.457   48.802      0.0\n",
       "6                price      0.118   12.606      0.0"
      ]
     },
     "execution_count": 364,
     "metadata": {},
     "output_type": "execute_result"
    }
   ],
   "source": [
    "df = austin_data[['host_listings_count', 'bathrooms', 'bedrooms', 'beds', 'guests_included', 'pool', 'price']]\n",
    "\n",
    "attribute, I, Z, pv = [], [], [], []\n",
    "for feature in df.columns:\n",
    "    mi = pysal.Moran(np.array(df[feature].tolist()), w)\n",
    "    attribute.append(feature)\n",
    "    I.append(round(mi.I, 3))\n",
    "    Z.append(round(mi.z_norm, 3))\n",
    "    pv.append(round(mi.p_norm, 3))\n",
    "    \n",
    "pd.DataFrame({'Feature': attribute, \"Moran's I\": I, 'Z-score':Z, 'p-value': pv})"
   ]
  },
  {
   "cell_type": "markdown",
   "metadata": {},
   "source": [
    "There exists weak but significant spatial correlation on **price** and **pool** has stronger spatial correlation."
   ]
  },
  {
   "cell_type": "markdown",
   "metadata": {},
   "source": [
    "## B.2 OLS\n",
    "\n",
    "$$y=\\beta X +\\epsilon$$"
   ]
  },
  {
   "cell_type": "code",
   "execution_count": 365,
   "metadata": {
    "collapsed": false
   },
   "outputs": [
    {
     "name": "stdout",
     "output_type": "stream",
     "text": [
      "REGRESSION\n",
      "----------\n",
      "SUMMARY OF OUTPUT: ORDINARY LEAST SQUARES\n",
      "-----------------------------------------\n",
      "Data set            :Austin home price\n",
      "Weights matrix      :        None\n",
      "Dependent Variable  :       price                Number of Observations:        9611\n",
      "Mean dependent var  :    292.4530                Number of Variables   :           7\n",
      "S.D. dependent var  :    442.9359                Degrees of Freedom    :        9604\n",
      "R-squared           :      0.3271\n",
      "Adjusted R-squared  :      0.3267\n",
      "Sum squared residual:1268604993.394                F-statistic           :    778.2517\n",
      "Sigma-square        :  132091.315                Prob(F-statistic)     :           0\n",
      "S.E. of regression  :     363.444                Log likelihood        :  -70296.763\n",
      "Sigma-square ML     :  131995.109                Akaike info criterion :  140607.526\n",
      "S.E of regression ML:    363.3113                Schwarz criterion     :  140657.720\n",
      "\n",
      "------------------------------------------------------------------------------------\n",
      "            Variable     Coefficient       Std.Error     t-Statistic     Probability\n",
      "------------------------------------------------------------------------------------\n",
      "            CONSTANT    -157.8806790       8.4596629     -18.6627625       0.0000000\n",
      " host_listings_count      -0.2815916       0.0867833      -3.2447653       0.0011795\n",
      "           bathrooms     189.9724167       7.4738490      25.4182841       0.0000000\n",
      "            bedrooms      82.7673721       6.2452630      13.2528241       0.0000000\n",
      "                beds      21.1282118       3.7109574       5.6934665       0.0000000\n",
      "     guests_included     -23.6145060       2.3249788     -10.1568694       0.0000000\n",
      "                pool      65.2305778       8.3803707       7.7837342       0.0000000\n",
      "------------------------------------------------------------------------------------\n",
      "\n",
      "REGRESSION DIAGNOSTICS\n",
      "MULTICOLLINEARITY CONDITION NUMBER            9.578\n",
      "\n",
      "TEST ON NORMALITY OF ERRORS\n",
      "TEST                             DF        VALUE           PROB\n",
      "Jarque-Bera                       2    21809962.824           0.0000\n",
      "\n",
      "DIAGNOSTICS FOR HETEROSKEDASTICITY\n",
      "RANDOM COEFFICIENTS\n",
      "TEST                             DF        VALUE           PROB\n",
      "Breusch-Pagan test                6       30937.716           0.0000\n",
      "Koenker-Bassett test              6         264.064           0.0000\n",
      "================================ END OF REPORT =====================================\n"
     ]
    }
   ],
   "source": [
    "ls = ols.OLS(y, X.values, \n",
    "             name_y = 'price', \n",
    "             name_x = ['host_listings_count', 'bathrooms', 'bedrooms', 'beds', 'guests_included','pool'], \n",
    "             name_ds = 'Austin home price')\n",
    "print(ls.summary)"
   ]
  },
  {
   "cell_type": "markdown",
   "metadata": {},
   "source": [
    "Results show that both one extra **bedroom** and one **extra bathroom** increase the final price $\\$190$ and $\\$82$, respectively. Accounting for those, an extra **bed** pushes $\\$21$ more and pool will contirbute additional $\\$65$ dollars. However, neither the **number of guests** included nor the **number of listings the host** has in total have a significant effect on the final price. $R^2=0.3271$ and adjusted $R^2=0.3267$."
   ]
  },
  {
   "cell_type": "markdown",
   "metadata": {},
   "source": [
    "### Transform target y with log function\n",
    "\n",
    "Actually the **target y** is not normal distributed. For OLS, we can transform it to a normal distribution by taking log function:"
   ]
  },
  {
   "cell_type": "code",
   "execution_count": 372,
   "metadata": {
    "collapsed": false
   },
   "outputs": [
    {
     "data": {
      "image/png": "[encoded data removed]",
      "text/plain": [
       "<matplotlib.figure.Figure at 0x134168650>"
      ]
     },
     "metadata": {},
     "output_type": "display_data"
    }
   ],
   "source": [
    "plt.subplots(nrows=1, ncols=2, figsize = (8,2))\n",
    "bins = np.linspace(-0.5, max(y)+0.5, len(y)/50)\n",
    "\n",
    "ax = plt.subplot(121)\n",
    "plt.hist(y[:,0], bins=bins, alpha=0.7, label='', normed=True)\n",
    "plt.xlabel('home price', fontsize = 13)\n",
    "plt.xlim(-0.5, 2000)\n",
    "\n",
    "ax = plt.subplot(122)\n",
    "plt.hist(np.log(y[:, 0]+0.0001), bins=100, alpha=0.7, label='', normed=True)\n",
    "plt.xlabel('log(home price)', fontsize = 13)\n",
    "plt.xlim(0, )\n",
    "\n",
    "plt.show()"
   ]
  },
  {
   "cell_type": "code",
   "execution_count": 373,
   "metadata": {
    "collapsed": false
   },
   "outputs": [],
   "source": [
    "log_y = np.log(y[:, 0]+0.0001)\n",
    "log_y.shape = (len(log_y), 1)"
   ]
  },
  {
   "cell_type": "code",
   "execution_count": 376,
   "metadata": {
    "collapsed": false
   },
   "outputs": [
    {
     "name": "stdout",
     "output_type": "stream",
     "text": [
      "REGRESSION\n",
      "----------\n",
      "SUMMARY OF OUTPUT: ORDINARY LEAST SQUARES\n",
      "-----------------------------------------\n",
      "Data set            :Austin home price\n",
      "Weights matrix      :        None\n",
      "Dependent Variable  :  log(price)                Number of Observations:        9611\n",
      "Mean dependent var  :      5.1712                Number of Variables   :           7\n",
      "S.D. dependent var  :      0.9667                Degrees of Freedom    :        9604\n",
      "R-squared           :      0.4167\n",
      "Adjusted R-squared  :      0.4163\n",
      "Sum squared residual:    5238.184                F-statistic           :   1143.5150\n",
      "Sigma-square        :       0.545                Prob(F-statistic)     :           0\n",
      "S.E. of regression  :       0.739                Log likelihood        :  -10720.799\n",
      "Sigma-square ML     :       0.545                Akaike info criterion :   21455.599\n",
      "S.E of regression ML:      0.7383                Schwarz criterion     :   21505.793\n",
      "\n",
      "------------------------------------------------------------------------------------\n",
      "            Variable     Coefficient       Std.Error     t-Statistic     Probability\n",
      "------------------------------------------------------------------------------------\n",
      "            CONSTANT       4.0619850       0.0171902     236.2969486       0.0000000\n",
      " host_listings_count      -0.0000689       0.0001763      -0.3907549       0.6959871\n",
      "           bathrooms       0.2652850       0.0151870      17.4679212       0.0000000\n",
      "            bedrooms       0.3196972       0.0126905      25.1919010       0.0000000\n",
      "                beds       0.0499611       0.0075407       6.6254986       0.0000000\n",
      "     guests_included      -0.0060680       0.0047244      -1.2844076       0.1990304\n",
      "                pool       0.1778834       0.0170290      10.4458830       0.0000000\n",
      "------------------------------------------------------------------------------------\n",
      "\n",
      "REGRESSION DIAGNOSTICS\n",
      "MULTICOLLINEARITY CONDITION NUMBER            9.578\n",
      "\n",
      "TEST ON NORMALITY OF ERRORS\n",
      "TEST                             DF        VALUE           PROB\n",
      "Jarque-Bera                       2       85121.305           0.0000\n",
      "\n",
      "DIAGNOSTICS FOR HETEROSKEDASTICITY\n",
      "RANDOM COEFFICIENTS\n",
      "TEST                             DF        VALUE           PROB\n",
      "Breusch-Pagan test                6         523.173           0.0000\n",
      "Koenker-Bassett test              6          63.282           0.0000\n",
      "================================ END OF REPORT =====================================\n"
     ]
    }
   ],
   "source": [
    "log_ols_reg = ols.OLS(log_y, X.values, \n",
    "             name_y = 'log(price)', \n",
    "             name_x = ['host_listings_count', 'bathrooms', 'bedrooms', 'beds', 'guests_included','pool'], \n",
    "             name_ds = 'Austin home price')\n",
    "print(log_ols_reg.summary)"
   ]
  },
  {
   "cell_type": "markdown",
   "metadata": {},
   "source": [
    "Results show that **bedroom**, **bathroom**, **bed** and existence of **pool** are still significant to the final price. By with **log(price)**, it is clear to see neither the **number of guests included** nor the **number of listings the host** has in total have a significant effect on the final price. However now $R^2=0.4167$ and adjusted $0.4163$, so the current OLS model (using **log[price]**) is a better model to explain variance than the previous one (using **price**)."
   ]
  },
  {
   "cell_type": "code",
   "execution_count": 187,
   "metadata": {
    "collapsed": false
   },
   "outputs": [
    {
     "data": {
      "text/plain": [
       "array([[ 5.74535391],\n",
       "       [ 5.75283864],\n",
       "       [ 4.72254826],\n",
       "       ..., \n",
       "       [ 5.06044959],\n",
       "       [ 4.79071346],\n",
       "       [ 6.07312055]])"
      ]
     },
     "execution_count": 187,
     "metadata": {},
     "output_type": "execute_result"
    }
   ],
   "source": [
    "ls.predy"
   ]
  },
  {
   "cell_type": "code",
   "execution_count": 377,
   "metadata": {
    "collapsed": false
   },
   "outputs": [
    {
     "data": {
      "text/plain": [
       "0.54501961939237265"
      ]
     },
     "execution_count": 377,
     "metadata": {},
     "output_type": "execute_result"
    }
   ],
   "source": [
    "mse(log_y.flatten(), log_ols_reg.predy.flatten())"
   ]
  },
  {
   "cell_type": "markdown",
   "metadata": {},
   "source": [
    "## B.3 Spatially lagged y regression (Wy)\n",
    "\n",
    "This model additionally considers the spatially lagged y, i.e. the **log(house price)** surrounding a given property also enters its own price function. It reads as\n",
    "\n",
    "$$y=\\rho Wy+\\beta X +\\epsilon$$\n",
    "\n",
    "Note that y = log(price). We still implement two methods for the model. Spatial two stage least squares and Maximum likelihood spatial lag.\n",
    "\n",
    "### Spatial two stage least squares"
   ]
  },
  {
   "cell_type": "code",
   "execution_count": 388,
   "metadata": {
    "collapsed": false
   },
   "outputs": [
    {
     "name": "stdout",
     "output_type": "stream",
     "text": [
      "REGRESSION\n",
      "----------\n",
      "SUMMARY OF OUTPUT: SPATIAL TWO STAGE LEAST SQUARES\n",
      "--------------------------------------------------\n",
      "Data set            :Austin home price lag model\n",
      "Weights matrix      :     unknown\n",
      "Dependent Variable  :  log(price)                Number of Observations:        9611\n",
      "Mean dependent var  :      5.1712                Number of Variables   :           8\n",
      "S.D. dependent var  :      0.9667                Degrees of Freedom    :        9603\n",
      "Pseudo R-squared    :      0.4337\n",
      "Spatial Pseudo R-squared:  0.4177\n",
      "\n",
      "White Standard Errors\n",
      "------------------------------------------------------------------------------------\n",
      "            Variable     Coefficient       Std.Error     z-Statistic     Probability\n",
      "------------------------------------------------------------------------------------\n",
      "            CONSTANT       3.7213036       0.0757762      49.1091461       0.0000000\n",
      " host_listings_count      -0.0001057       0.0000970      -1.0904400       0.2755194\n",
      "           bathrooms       0.2583103       0.0218841      11.8035626       0.0000000\n",
      "            bedrooms       0.3205403       0.0203248      15.7708811       0.0000000\n",
      "                beds       0.0478377       0.0107322       4.4574097       0.0000083\n",
      "     guests_included      -0.0062751       0.0048345      -1.2979776       0.1942950\n",
      "                pool       0.1743703       0.0181467       9.6089326       0.0000000\n",
      "        W_log(price)       0.0690675       0.0149465       4.6209687       0.0000038\n",
      "------------------------------------------------------------------------------------\n",
      "Instrumented: W_log(price)\n",
      "Instruments: W2_bathrooms, W2_bedrooms, W2_beds, W2_guests_included,\n",
      "             W2_host_listings_count, W2_pool, W_bathrooms, W_bedrooms,\n",
      "             W_beds, W_guests_included, W_host_listings_count, W_pool\n",
      "================================ END OF REPORT =====================================\n"
     ]
    }
   ],
   "source": [
    "lag_y_reg=GM_Lag(log_y, X.values, w=w, w_lags=2, robust='white', \n",
    "           name_x=['host_listings_count', 'bathrooms', 'bedrooms', 'beds', 'guests_included','pool'], \n",
    "           name_y='log(price)', \n",
    "           name_ds='Austin home price lag model')\n",
    "print lag_y_reg.summary"
   ]
  },
  {
   "cell_type": "code",
   "execution_count": 394,
   "metadata": {
    "collapsed": false
   },
   "outputs": [
    {
     "data": {
      "text/plain": [
       "0.5292398954373202"
      ]
     },
     "execution_count": 394,
     "metadata": {},
     "output_type": "execute_result"
    }
   ],
   "source": [
    "mse(log_y.flatten(), lag_y_reg.predy.flatten())"
   ]
  },
  {
   "cell_type": "markdown",
   "metadata": {},
   "source": [
    "The regression results are again very similar in all the other variable. However, it is also very clear that the estimate of the spatially lagged price is statistically significant and has about 30% impact (0.069) of pool (0.174). This points to evidence that there are processes of spatial interaction between property owners when they set their price.\n",
    "\n",
    "### Maximum likelihood spatial lag\n",
    "\n",
    "In addition to the GM_lag model, we can also implement maximum likelihood for the spatially lagged y model:"
   ]
  },
  {
   "cell_type": "code",
   "execution_count": 389,
   "metadata": {
    "collapsed": false
   },
   "outputs": [
    {
     "name": "stdout",
     "output_type": "stream",
     "text": [
      "REGRESSION\n",
      "----------\n",
      "SUMMARY OF OUTPUT: MAXIMUM LIKELIHOOD SPATIAL LAG (METHOD = FULL)\n",
      "-----------------------------------------------------------------\n",
      "Data set            :Austin home spatial regression\n",
      "Weights matrix      :     unknown\n",
      "Dependent Variable  :log(home value)                Number of Observations:        9611\n",
      "Mean dependent var  :      5.1712                Number of Variables   :           8\n",
      "S.D. dependent var  :      0.9667                Degrees of Freedom    :        9603\n",
      "Pseudo R-squared    :      0.4493\n",
      "Spatial Pseudo R-squared:  0.4145\n",
      "Sigma-square ML     :       0.515                Log likelihood        :  -10501.901\n",
      "S.E of regression   :       0.717                Akaike info criterion :   21019.802\n",
      "                                                 Schwarz criterion     :   21077.168\n",
      "\n",
      "------------------------------------------------------------------------------------\n",
      "            Variable     Coefficient       Std.Error     z-Statistic     Probability\n",
      "------------------------------------------------------------------------------------\n",
      "            CONSTANT       3.1669732       0.0450637      70.2776900       0.0000000\n",
      " host_listings_count      -0.0001657       0.0001713      -0.9671195       0.3334843\n",
      "           bathrooms       0.2469616       0.0147824      16.7064816       0.0000000\n",
      "            bedrooms       0.3219121       0.0123293      26.1094567       0.0000000\n",
      "                beds       0.0443827       0.0073260       6.0582035       0.0000000\n",
      "     guests_included      -0.0066119       0.0045891      -1.4407690       0.1496500\n",
      "                pool       0.1686539       0.0165415      10.1958337       0.0000000\n",
      "   W_log(home value)       0.1814487       0.0085137      21.3126731       0.0000000\n",
      "------------------------------------------------------------------------------------\n",
      "================================ END OF REPORT =====================================\n"
     ]
    }
   ],
   "source": [
    "lag_y_reg2 = ml_lag.ML_Lag(log_y, X.values, w=w, \n",
    "                           name_y='log(home value)',\n",
    "                           name_x=['host_listings_count', 'bathrooms', 'bedrooms', 'beds', 'guests_included','pool'], \n",
    "                           name_ds='Austin home spatial regression')\n",
    "print(lag_y_reg2.summary)"
   ]
  },
  {
   "cell_type": "code",
   "execution_count": 390,
   "metadata": {
    "collapsed": false
   },
   "outputs": [
    {
     "data": {
      "text/plain": [
       "0.51462140251471711"
      ]
     },
     "execution_count": 390,
     "metadata": {},
     "output_type": "execute_result"
    }
   ],
   "source": [
    "mse(log_y.flatten(), lag_y_reg2.predy.flatten())"
   ]
  },
  {
   "cell_type": "markdown",
   "metadata": {},
   "source": [
    "The ML_Lag model spent much longer time to train the model but shows important impact on lagged log(home price). The former also gives lower MSE."
   ]
  },
  {
   "cell_type": "markdown",
   "metadata": {},
   "source": [
    "## B4. Spatially lagged variable regression (WX)\n",
    "\n",
    "In a similar way, the spatially lagged variable model introduces \"spatially lagging\" of one of the explanatory variables into regression. It reads as\n",
    "\n",
    "$$y=\\lambda WX^{\\prime} + \\beta X +\\epsilon$$\n",
    "\n",
    "where $X^{\\prime}$ is a subset of $X$. From Moran's I, the feature **pool** has significant spatial correlation, so we simply consider one spatially lagged variable, which is the spatially lagged pool. Even that, we can compare various number of neighbors to compute spatially lagged pool. Here we take k=2 and k=10.\n",
    "\n",
    "### Number of neighbors k = 2\n",
    "\n",
    "Using `knnW_from_array` to generate spatially lagged pool **lag_pool**. The default setting is k=2."
   ]
  },
  {
   "cell_type": "code",
   "execution_count": 380,
   "metadata": {
    "collapsed": true
   },
   "outputs": [],
   "source": [
    "lag_pool = pysal.knnW_from_array(austin_data.loc[austin_data.index, ['longitude', 'latitude']].values)"
   ]
  },
  {
   "cell_type": "code",
   "execution_count": 381,
   "metadata": {
    "collapsed": true
   },
   "outputs": [],
   "source": [
    "X_lag_pool = X.assign(lag_pool=pysal.lag_spatial(lag_pool, X['pool'].values))"
   ]
  },
  {
   "cell_type": "markdown",
   "metadata": {},
   "source": [
    "Now, in addition to the original dataframe, we add lagged pool feature `lag_pool`: "
   ]
  },
  {
   "cell_type": "code",
   "execution_count": 382,
   "metadata": {
    "collapsed": false
   },
   "outputs": [
    {
     "data": {
      "text/html": [
       "<div>\n",
       "<table border=\"1\" class=\"dataframe\">\n",
       "  <thead>\n",
       "    <tr style=\"text-align: right;\">\n",
       "      <th></th>\n",
       "      <th>host_listings_count</th>\n",
       "      <th>bathrooms</th>\n",
       "      <th>bedrooms</th>\n",
       "      <th>beds</th>\n",
       "      <th>guests_included</th>\n",
       "      <th>pool</th>\n",
       "      <th>lag_pool</th>\n",
       "    </tr>\n",
       "  </thead>\n",
       "  <tbody>\n",
       "    <tr>\n",
       "      <th>0</th>\n",
       "      <td>1.0</td>\n",
       "      <td>2.0</td>\n",
       "      <td>3.0</td>\n",
       "      <td>4.0</td>\n",
       "      <td>1</td>\n",
       "      <td>0</td>\n",
       "      <td>0.0</td>\n",
       "    </tr>\n",
       "    <tr>\n",
       "      <th>1</th>\n",
       "      <td>1.0</td>\n",
       "      <td>2.0</td>\n",
       "      <td>3.0</td>\n",
       "      <td>5.0</td>\n",
       "      <td>8</td>\n",
       "      <td>0</td>\n",
       "      <td>0.0</td>\n",
       "    </tr>\n",
       "    <tr>\n",
       "      <th>2</th>\n",
       "      <td>1.0</td>\n",
       "      <td>1.0</td>\n",
       "      <td>1.0</td>\n",
       "      <td>2.0</td>\n",
       "      <td>4</td>\n",
       "      <td>0</td>\n",
       "      <td>0.0</td>\n",
       "    </tr>\n",
       "    <tr>\n",
       "      <th>3</th>\n",
       "      <td>3.0</td>\n",
       "      <td>3.0</td>\n",
       "      <td>4.0</td>\n",
       "      <td>5.0</td>\n",
       "      <td>1</td>\n",
       "      <td>0</td>\n",
       "      <td>0.0</td>\n",
       "    </tr>\n",
       "    <tr>\n",
       "      <th>4</th>\n",
       "      <td>1.0</td>\n",
       "      <td>1.0</td>\n",
       "      <td>1.0</td>\n",
       "      <td>1.0</td>\n",
       "      <td>1</td>\n",
       "      <td>0</td>\n",
       "      <td>0.0</td>\n",
       "    </tr>\n",
       "  </tbody>\n",
       "</table>\n",
       "</div>"
      ],
      "text/plain": [
       "   host_listings_count  bathrooms  bedrooms  beds  guests_included  pool  \\\n",
       "0                  1.0        2.0       3.0   4.0                1     0   \n",
       "1                  1.0        2.0       3.0   5.0                8     0   \n",
       "2                  1.0        1.0       1.0   2.0                4     0   \n",
       "3                  3.0        3.0       4.0   5.0                1     0   \n",
       "4                  1.0        1.0       1.0   1.0                1     0   \n",
       "\n",
       "   lag_pool  \n",
       "0       0.0  \n",
       "1       0.0  \n",
       "2       0.0  \n",
       "3       0.0  \n",
       "4       0.0  "
      ]
     },
     "execution_count": 382,
     "metadata": {},
     "output_type": "execute_result"
    }
   ],
   "source": [
    "X_lag_pool.head()"
   ]
  },
  {
   "cell_type": "code",
   "execution_count": 383,
   "metadata": {
    "collapsed": false
   },
   "outputs": [
    {
     "name": "stdout",
     "output_type": "stream",
     "text": [
      "REGRESSION\n",
      "----------\n",
      "SUMMARY OF OUTPUT: ORDINARY LEAST SQUARES\n",
      "-----------------------------------------\n",
      "Data set            :Austin home price\n",
      "Weights matrix      :        None\n",
      "Dependent Variable  :  log(price)                Number of Observations:        9611\n",
      "Mean dependent var  :      5.1712                Number of Variables   :           8\n",
      "S.D. dependent var  :      0.9667                Degrees of Freedom    :        9603\n",
      "R-squared           :      0.4182\n",
      "Adjusted R-squared  :      0.4178\n",
      "Sum squared residual:    5224.624                F-statistic           :    986.1576\n",
      "Sigma-square        :       0.544                Prob(F-statistic)     :           0\n",
      "S.E. of regression  :       0.738                Log likelihood        :  -10708.344\n",
      "Sigma-square ML     :       0.544                Akaike info criterion :   21432.688\n",
      "S.E of regression ML:      0.7373                Schwarz criterion     :   21490.053\n",
      "\n",
      "------------------------------------------------------------------------------------\n",
      "            Variable     Coefficient       Std.Error     t-Statistic     Probability\n",
      "------------------------------------------------------------------------------------\n",
      "            CONSTANT       4.0394505       0.0177523     227.5456106       0.0000000\n",
      " host_listings_count      -0.0000641       0.0001761      -0.3639229       0.7159236\n",
      "           bathrooms       0.2646606       0.0151686      17.4479042       0.0000000\n",
      "            bedrooms       0.3225796       0.0126878      25.4243060       0.0000000\n",
      "                beds       0.0496335       0.0075316       6.5900029       0.0000000\n",
      "     guests_included      -0.0054969       0.0047199      -1.1646213       0.2442012\n",
      "                pool       0.1249975       0.0200373       6.2382527       0.0000000\n",
      "            lag_pool       0.0585129       0.0117207       4.9922684       0.0000006\n",
      "------------------------------------------------------------------------------------\n",
      "\n",
      "REGRESSION DIAGNOSTICS\n",
      "MULTICOLLINEARITY CONDITION NUMBER            9.950\n",
      "\n",
      "TEST ON NORMALITY OF ERRORS\n",
      "TEST                             DF        VALUE           PROB\n",
      "Jarque-Bera                       2       88162.571           0.0000\n",
      "\n",
      "DIAGNOSTICS FOR HETEROSKEDASTICITY\n",
      "RANDOM COEFFICIENTS\n",
      "TEST                             DF        VALUE           PROB\n",
      "Breusch-Pagan test                7         578.269           0.0000\n",
      "Koenker-Bassett test              7          68.877           0.0000\n",
      "================================ END OF REPORT =====================================\n"
     ]
    }
   ],
   "source": [
    "lag_pool_reg = ols.OLS(log_y, X_lag_pool.values,\n",
    "             name_y = 'log(price)', \n",
    "             name_x = ['host_listings_count', 'bathrooms', 'bedrooms', 'beds', 'guests_included', 'pool', 'lag_pool'], \n",
    "             name_ds = 'Austin home price')\n",
    "print(lag_pool_reg.summary)"
   ]
  },
  {
   "cell_type": "code",
   "execution_count": 384,
   "metadata": {
    "collapsed": false
   },
   "outputs": [
    {
     "data": {
      "text/plain": [
       "0.54360878711496963"
      ]
     },
     "execution_count": 384,
     "metadata": {},
     "output_type": "execute_result"
    }
   ],
   "source": [
    "mse(log_y.flatten(), lag_pool_reg.predy.flatten())"
   ]
  },
  {
   "cell_type": "markdown",
   "metadata": {},
   "source": [
    "In this model, the existence of **lag_pool** is statistically significant. We therefore can infer that there are processes of spatial interaction between number of **pools** and **spatial lagged of number of pools**. The spatially lagged variable regression model has lower MSE than OLS, but still higher than spatially lagged y regression model.\n",
    "\n",
    "### Number of neighbors k = 10"
   ]
  },
  {
   "cell_type": "code",
   "execution_count": 385,
   "metadata": {
    "collapsed": true
   },
   "outputs": [],
   "source": [
    "lag_pool2 = pysal.knnW_from_array(austin_data.loc[austin_data.index, ['longitude', 'latitude']].values, k=10)\n",
    "X_lag_pool2 = X.assign(lag_pool2=pysal.lag_spatial(lag_pool2, X['pool'].values))"
   ]
  },
  {
   "cell_type": "code",
   "execution_count": 386,
   "metadata": {
    "collapsed": false
   },
   "outputs": [
    {
     "name": "stdout",
     "output_type": "stream",
     "text": [
      "REGRESSION\n",
      "----------\n",
      "SUMMARY OF OUTPUT: ORDINARY LEAST SQUARES\n",
      "-----------------------------------------\n",
      "Data set            :Austin home price\n",
      "Weights matrix      :        None\n",
      "Dependent Variable  :  log(price)                Number of Observations:        9611\n",
      "Mean dependent var  :      5.1712                Number of Variables   :           8\n",
      "S.D. dependent var  :      0.9667                Degrees of Freedom    :        9603\n",
      "R-squared           :      0.4194\n",
      "Adjusted R-squared  :      0.4190\n",
      "Sum squared residual:    5213.542                F-statistic           :    991.1701\n",
      "Sigma-square        :       0.543                Prob(F-statistic)     :           0\n",
      "S.E. of regression  :       0.737                Log likelihood        :  -10698.140\n",
      "Sigma-square ML     :       0.542                Akaike info criterion :   21412.279\n",
      "S.E of regression ML:      0.7365                Schwarz criterion     :   21469.644\n",
      "\n",
      "------------------------------------------------------------------------------------\n",
      "            Variable     Coefficient       Std.Error     t-Statistic     Probability\n",
      "------------------------------------------------------------------------------------\n",
      "            CONSTANT       4.0213794       0.0181788     221.2125097       0.0000000\n",
      " host_listings_count      -0.0000574       0.0001759      -0.3262616       0.7442336\n",
      "           bathrooms       0.2633011       0.0151549      17.3740316       0.0000000\n",
      "            bedrooms       0.3251424       0.0126870      25.6279533       0.0000000\n",
      "                beds       0.0485784       0.0075262       6.4546096       0.0000000\n",
      "     guests_included      -0.0051970       0.0047153      -1.1021633       0.2704183\n",
      "                pool       0.0955374       0.0209296       4.5646965       0.0000051\n",
      "            lag_pool       0.0211460       0.0031387       6.7371221       0.0000000\n",
      "------------------------------------------------------------------------------------\n",
      "\n",
      "REGRESSION DIAGNOSTICS\n",
      "MULTICOLLINEARITY CONDITION NUMBER           10.059\n",
      "\n",
      "TEST ON NORMALITY OF ERRORS\n",
      "TEST                             DF        VALUE           PROB\n",
      "Jarque-Bera                       2       89134.708           0.0000\n",
      "\n",
      "DIAGNOSTICS FOR HETEROSKEDASTICITY\n",
      "RANDOM COEFFICIENTS\n",
      "TEST                             DF        VALUE           PROB\n",
      "Breusch-Pagan test                7         582.403           0.0000\n",
      "Koenker-Bassett test              7          69.039           0.0000\n",
      "================================ END OF REPORT =====================================\n"
     ]
    }
   ],
   "source": [
    "lag_pool_reg2 = ols.OLS(log_y, X_lag_pool2.values,\n",
    "             name_y = 'log(price)', \n",
    "             name_x = ['host_listings_count', 'bathrooms', 'bedrooms', 'beds', 'guests_included', 'pool', 'lag_pool'], \n",
    "             name_ds = 'Austin home price')\n",
    "print(lag_pool_reg2.summary)"
   ]
  },
  {
   "cell_type": "code",
   "execution_count": 391,
   "metadata": {
    "collapsed": false
   },
   "outputs": [
    {
     "data": {
      "text/plain": [
       "0.54245568931258692"
      ]
     },
     "execution_count": 391,
     "metadata": {},
     "output_type": "execute_result"
    }
   ],
   "source": [
    "mse(log_y.flatten(), lag_pool_reg2.predy.flatten())"
   ]
  },
  {
   "cell_type": "markdown",
   "metadata": {},
   "source": [
    "## B5. Spatially lagged variable and y regression (WX+Wy)\n",
    "\n",
    "The model is called spatially Durbin model. It reads\n",
    "$$y=\\lambda WX^{\\prime} + \\rho Wy+\\beta X +\\epsilon$$"
   ]
  },
  {
   "cell_type": "code",
   "execution_count": 392,
   "metadata": {
    "collapsed": false
   },
   "outputs": [
    {
     "name": "stdout",
     "output_type": "stream",
     "text": [
      "REGRESSION\n",
      "----------\n",
      "SUMMARY OF OUTPUT: MAXIMUM LIKELIHOOD SPATIAL LAG (METHOD = FULL)\n",
      "-----------------------------------------------------------------\n",
      "Data set            :Austin home spatial regression\n",
      "Weights matrix      :     unknown\n",
      "Dependent Variable  :log(home value)                Number of Observations:        9611\n",
      "Mean dependent var  :      5.1712                Number of Variables   :           9\n",
      "S.D. dependent var  :      0.9667                Degrees of Freedom    :        9602\n",
      "Pseudo R-squared    :      0.4501\n",
      "Spatial Pseudo R-squared:  0.4156\n",
      "Sigma-square ML     :       0.514                Log likelihood        :  -10494.106\n",
      "S.E of regression   :       0.717                Akaike info criterion :   21006.211\n",
      "                                                 Schwarz criterion     :   21070.747\n",
      "\n",
      "------------------------------------------------------------------------------------\n",
      "            Variable     Coefficient       Std.Error     z-Statistic     Probability\n",
      "------------------------------------------------------------------------------------\n",
      "            CONSTANT       3.1584328       0.0450167      70.1612859       0.0000000\n",
      " host_listings_count      -0.0001610       0.0001712      -0.9405626       0.3469291\n",
      "           bathrooms       0.2466612       0.0147722      16.6976549       0.0000000\n",
      "            bedrooms       0.3241101       0.0123341      26.2776582       0.0000000\n",
      "                beds       0.0441853       0.0073213       6.0352161       0.0000000\n",
      "     guests_included      -0.0061667       0.0045873      -1.3442974       0.1788522\n",
      "                pool       0.1280164       0.0194759       6.5730701       0.0000000\n",
      "            lag_pool       0.0450618       0.0114079       3.9500567       0.0000781\n",
      "   W_log(home value)       0.1796618       0.0085235      21.0784676       0.0000000\n",
      "------------------------------------------------------------------------------------\n",
      "================================ END OF REPORT =====================================\n"
     ]
    }
   ],
   "source": [
    "lag_pool_y_reg = ml_lag.ML_Lag(log_y, X_lag_pool.values, w=w, \n",
    "                           name_y='log(home value)',\n",
    "                           name_x=['host_listings_count', 'bathrooms', 'bedrooms', 'beds', 'guests_included','pool', 'lag_pool'], \n",
    "                           name_ds='Austin home spatial regression')\n",
    "print(lag_pool_y_reg.summary)"
   ]
  },
  {
   "cell_type": "code",
   "execution_count": 393,
   "metadata": {
    "collapsed": false
   },
   "outputs": [
    {
     "data": {
      "text/plain": [
       "0.51390994434064308"
      ]
     },
     "execution_count": 393,
     "metadata": {},
     "output_type": "execute_result"
    }
   ],
   "source": [
    "mse(log_y.flatten(), lag_pool_y_reg.predy.flatten())"
   ]
  },
  {
   "cell_type": "markdown",
   "metadata": {},
   "source": [
    "We can see by introducing both spatially lagged X and y, the regression model improves."
   ]
  },
  {
   "cell_type": "code",
   "execution_count": null,
   "metadata": {
    "collapsed": true
   },
   "outputs": [],
   "source": []
  }
 ],
 "metadata": {
  "kernelspec": {
   "display_name": "Python [default]",
   "language": "python",
   "name": "python2"
  },
  "language_info": {
   "codemirror_mode": {
    "name": "ipython",
    "version": 2
   },
   "file_extension": ".py",
   "mimetype": "text/x-python",
   "name": "python",
   "nbconvert_exporter": "python",
   "pygments_lexer": "ipython2",
   "version": "2.7.12"
  }
 },
 "nbformat": 4,
 "nbformat_minor": 2
}
